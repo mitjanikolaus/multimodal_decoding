{
 "cells": [
  {
   "cell_type": "code",
   "metadata": {
    "ExecuteTime": {
     "end_time": "2024-12-09T16:26:54.542780Z",
     "start_time": "2024-12-09T16:26:52.700310Z"
    }
   },
   "source": [
    "import os\n",
    "\n",
    "import nibabel\n",
    "import numpy as np\n",
    "import matplotlib.pyplot as plt\n",
    "import pandas as pd\n",
    "import seaborn as sns\n",
    "from tqdm import tqdm\n",
    "from glob import glob\n",
    "import pickle\n",
    "\n",
    "from PIL import ImageColor, Image\n",
    "import matplotlib.colors\n",
    "\n",
    "from utils import NN_FEATURES_DIR, RESULTS_DIR, SUBJECTS, NUM_TEST_STIMULI, FMRI_SURFACE_LEVEL_DIR, STIM_INFO_PATH, COCO_IMAGES_DIR, STIMULI_IDS_PATH\n",
    "from analyses.ridge_regression_decoding import NUM_CV_SPLITS, RIDGE_DECODER_OUT_DIR, calc_rsa, calc_rsa_images, calc_rsa_captions, get_fmri_data, pairwise_accuracy, \\\n",
    "ACC_MODALITY_AGNOSTIC, ACC_CAPTIONS, ACC_IMAGES, ACC_CROSS_IMAGES_TO_CAPTIONS, ACC_CROSS_CAPTIONS_TO_IMAGES, ACC_IMAGERY, ACC_IMAGERY_WHOLE_TEST, get_default_features, get_default_vision_features, get_default_lang_features, Standardize, IMAGE, CAPTION, get_distance_matrix, dist_mat_to_pairwise_acc, get_fmri_data_paths, get_nn_latent_data\n",
    "\n",
    "from notebook_utils import add_avg_subject, create_result_graph, plot_metric_catplot, plot_metric, load_results_data, ACC_MEAN, ACC_CROSS_MEAN, PALETTE_BLACK_ONLY, METRICS_ERROR_ANALYSIS, get_data_default_feats, METRICS_BASE\n",
    "\n",
    "from feature_extraction.feat_extraction_utils import CoCoDataset "
   ],
   "outputs": [],
   "execution_count": 2
  },
  {
   "cell_type": "markdown",
   "metadata": {},
   "source": [
    "# Nearest Neighbors of test images"
   ]
  },
  {
   "metadata": {
    "ExecuteTime": {
     "end_time": "2024-12-09T16:27:00.153107Z",
     "start_time": "2024-12-09T16:26:54.548428Z"
    }
   },
   "cell_type": "code",
   "source": [
    "from utils import FMRI_DATA_DIR\n",
    "\n",
    "SUBJECT = 'sub-01'\n",
    "MODEL = \"imagebind\"\n",
    "STIM_TYPE = 'image'\n",
    "BETAS_DIR = os.path.join(FMRI_DATA_DIR, 'betas_new')\n",
    "train_paths, stim_ids, stim_types = get_fmri_data_paths(BETAS_DIR, SUBJECT, \"train\")\n",
    "\n",
    "latents, _ = get_nn_latent_data(MODEL, 'avg',\n",
    "                                    'vision_features_cls',\n",
    "                                    'lang_features_cls',\n",
    "                                    stim_ids,\n",
    "                                    stim_types,\n",
    "                                    SUBJECT,\n",
    "                                    \"train\"\n",
    "                                    )\n",
    "\n",
    "train_paths = np.array(train_paths)[stim_types == STIM_TYPE]"
   ],
   "outputs": [],
   "execution_count": 3
  },
  {
   "metadata": {
    "ExecuteTime": {
     "end_time": "2024-12-09T16:29:03.228363Z",
     "start_time": "2024-12-09T16:27:06.239005Z"
    }
   },
   "cell_type": "code",
   "source": [
    "from tqdm import trange\n",
    "from preprocessing.create_gray_matter_masks import get_graymatter_mask_path\n",
    "import nibabel\n",
    "test_fmri = []\n",
    "\n",
    "gray_matter_mask_path = get_graymatter_mask_path(SUBJECT)\n",
    "gray_matter_mask_img = nibabel.load(gray_matter_mask_path)\n",
    "gray_matter_mask_data = gray_matter_mask_img.get_fdata()\n",
    "gray_matter_mask = gray_matter_mask_data == 1\n",
    "print(f\"Gray matter mask size: {gray_matter_mask.sum()}\")\n",
    "\n",
    "fmri_train_betas = []\n",
    "for idx in trange(10, desc=\"loading fmri data\"):\n",
    "    sample = nibabel.load(train_paths[idx])\n",
    "    sample = sample.get_fdata()\n",
    "    sample = sample[gray_matter_mask].astype('float32').reshape(-1)\n",
    "    fmri_train_betas.append(sample)\n",
    "\n",
    "fmri_train_betas = np.array(fmri_train_betas)\n"
   ],
   "outputs": [
    {
     "name": "stdout",
     "output_type": "stream",
     "text": [
      "Gray matter mask size: 162649\n"
     ]
    },
    {
     "name": "stderr",
     "output_type": "stream",
     "text": [
      "loading fmri data: 100%|██████████| 10/10 [01:47<00:00, 10.74s/it]\n"
     ]
    },
    {
     "data": {
      "text/plain": [
       "array([[-0.35332873,  1.1735638 ,  0.4762943 , ..., -0.17560871,\n",
       "         0.88654995,  2.4132216 ],\n",
       "       [-2.9066963 ,  2.524966  ,  5.192939  , ..., -1.594213  ,\n",
       "        -1.8071494 , -3.6754138 ],\n",
       "       [-3.338414  , -2.1419594 , -0.20552808, ..., -0.20531629,\n",
       "         1.6601925 , -0.460278  ],\n",
       "       ...,\n",
       "       [-1.4724239 , -0.7705569 ,  0.58517325, ...,  3.7909627 ,\n",
       "        -1.8592083 , -0.3197928 ],\n",
       "       [-6.6351905 , -2.5074031 , -1.6858445 , ...,  2.8640425 ,\n",
       "        -1.885861  , -3.570221  ],\n",
       "       [-4.3158445 , -3.3233457 , -3.5394206 , ..., -1.3201085 ,\n",
       "         1.633338  ,  2.0146437 ]], dtype=float32)"
      ]
     },
     "execution_count": 4,
     "metadata": {},
     "output_type": "execute_result"
    }
   ],
   "execution_count": 4
  },
  {
   "metadata": {
    "ExecuteTime": {
     "end_time": "2024-12-09T16:29:04.628948Z",
     "start_time": "2024-12-09T16:29:03.230835Z"
    }
   },
   "cell_type": "code",
   "source": [
    "test_paths, test_stim_ids, test_stim_types = get_fmri_data_paths(BETAS_DIR, SUBJECT, \"test\")\n",
    "test_paths = np.array(test_paths)[test_stim_types == STIM_TYPE]\n",
    "test_paths.shape"
   ],
   "outputs": [
    {
     "data": {
      "text/plain": [
       "(70,)"
      ]
     },
     "execution_count": 5,
     "metadata": {},
     "output_type": "execute_result"
    }
   ],
   "execution_count": 5
  },
  {
   "metadata": {
    "ExecuteTime": {
     "end_time": "2024-12-09T16:30:53.127458Z",
     "start_time": "2024-12-09T16:29:04.635208Z"
    }
   },
   "cell_type": "code",
   "source": [
    "from tqdm import trange\n",
    "from preprocessing.create_gray_matter_masks import get_graymatter_mask_path\n",
    "import nibabel\n",
    "test_fmri = []\n",
    "\n",
    "gray_matter_mask_path = get_graymatter_mask_path(SUBJECT)\n",
    "gray_matter_mask_img = nibabel.load(gray_matter_mask_path)\n",
    "gray_matter_mask_data = gray_matter_mask_img.get_fdata()\n",
    "gray_matter_mask = gray_matter_mask_data == 1\n",
    "print(f\"Gray matter mask size: {gray_matter_mask.sum()}\")\n",
    "\n",
    "fmri_betas = []\n",
    "for idx in trange(10, desc=\"loading fmri data\"):\n",
    "    sample = nibabel.load(test_paths[idx])\n",
    "    sample = sample.get_fdata()\n",
    "    sample = sample[gray_matter_mask].astype('float32').reshape(-1)\n",
    "    fmri_betas.append(sample)\n",
    "\n",
    "fmri_betas = np.array(fmri_betas)\n"
   ],
   "outputs": [
    {
     "name": "stdout",
     "output_type": "stream",
     "text": [
      "Gray matter mask size: 162649\n"
     ]
    },
    {
     "name": "stderr",
     "output_type": "stream",
     "text": [
      "loading fmri data: 100%|██████████| 10/10 [01:39<00:00,  9.97s/it]\n"
     ]
    }
   ],
   "execution_count": 6
  },
  {
   "metadata": {
    "ExecuteTime": {
     "end_time": "2024-12-09T16:30:53.136541Z",
     "start_time": "2024-12-09T16:30:53.130380Z"
    }
   },
   "cell_type": "code",
   "source": [
    "test_stim_ids[0]\n",
    "test_stim_types[0]"
   ],
   "outputs": [
    {
     "data": {
      "text/plain": [
       "'caption'"
      ]
     },
     "execution_count": 7,
     "metadata": {},
     "output_type": "execute_result"
    }
   ],
   "execution_count": 7
  },
  {
   "metadata": {
    "ExecuteTime": {
     "end_time": "2024-12-09T16:37:41.815352Z",
     "start_time": "2024-12-09T16:37:41.793879Z"
    }
   },
   "cell_type": "code",
   "source": [
    "fmri_train_betas[:, 20000:20020].max(axis=0).mean()\n",
    "fmri_train_betas.max(axis=0).mean()\n"
   ],
   "outputs": [
    {
     "data": {
      "text/plain": [
       "7.950005"
      ]
     },
     "execution_count": 15,
     "metadata": {},
     "output_type": "execute_result"
    }
   ],
   "execution_count": 15
  },
  {
   "metadata": {
    "ExecuteTime": {
     "end_time": "2024-12-09T16:37:50.789726Z",
     "start_time": "2024-12-09T16:37:50.770017Z"
    }
   },
   "cell_type": "code",
   "source": [
    "fmri_betas[:, 20000:20020].max(axis=0).mean()\n",
    "fmri_betas.max(axis=0).mean()\n"
   ],
   "outputs": [
    {
     "data": {
      "text/plain": [
       "2.2271032"
      ]
     },
     "execution_count": 16,
     "metadata": {},
     "output_type": "execute_result"
    }
   ],
   "execution_count": 16
  },
  {
   "metadata": {},
   "cell_type": "code",
   "source": [
    "\n",
    "# targets = pickle.load(open('/home/mitja/Downloads/targets.p', 'rb'))[test_stim_types == STIM_TYPE]\n",
    "# preds = pickle.load(open('/home/mitja/Downloads/preds.p', 'rb'))[test_stim_types == STIM_TYPE]\n",
    "# print(targets.shape)\n",
    "# print(preds.shape)\n"
   ],
   "outputs": [],
   "execution_count": null
  },
  {
   "metadata": {
    "ExecuteTime": {
     "end_time": "2024-12-09T19:03:43.942417Z",
     "start_time": "2024-12-09T19:03:39.253813Z"
    }
   },
   "cell_type": "code",
   "source": [
    "results = pickle.load(open('/home/mitja/data/multimodal_decoding/whole_brain_decoding/train_image/sub-01/imagebind_avg_test_avg_vision_features_cls_lang_features_cls/results.p', 'rb'))\n",
    "preds = results['predictions'][test_stim_types == STIM_TYPE]\n",
    "targets = results['latents'][test_stim_types == STIM_TYPE]\n",
    "\n",
    "print(targets.shape)\n",
    "print(preds.shape)\n",
    "\n"
   ],
   "outputs": [
    {
     "name": "stdout",
     "output_type": "stream",
     "text": [
      "(70, 1024)\n",
      "(70, 1024)\n"
     ]
    }
   ],
   "execution_count": 19
  },
  {
   "metadata": {
    "ExecuteTime": {
     "end_time": "2024-12-09T19:26:49.126270Z",
     "start_time": "2024-12-09T19:26:49.119416Z"
    }
   },
   "cell_type": "code",
   "source": [
    "preds.std(axis=0)\n",
    "targets.std(axis=0)\n",
    "preds"
   ],
   "outputs": [
    {
     "data": {
      "text/plain": [
       "array([[ 0.1731828 , -0.04481555, -0.4342584 , ...,  0.10285233,\n",
       "         0.08117852, -0.65347534],\n",
       "       [-0.17113288, -0.25586656,  0.54344887, ...,  0.10178385,\n",
       "        -0.15762343, -0.03463428],\n",
       "       [-0.26914987,  0.01100233, -0.17898676, ..., -0.60147053,\n",
       "         1.1573492 , -0.29404137],\n",
       "       ...,\n",
       "       [-0.25330424,  0.16691068, -0.3516128 , ..., -0.52294624,\n",
       "         0.36219645, -0.24241231],\n",
       "       [-0.28799325, -0.9923302 ,  0.57216525, ..., -0.7669344 ,\n",
       "         0.48000363,  0.48541442],\n",
       "       [ 0.93688256,  0.4988965 , -1.5358694 , ...,  0.8586009 ,\n",
       "         0.13756365, -0.7165827 ]], dtype=float32)"
      ]
     },
     "execution_count": 34,
     "metadata": {},
     "output_type": "execute_result"
    }
   ],
   "execution_count": 34
  },
  {
   "metadata": {},
   "cell_type": "code",
   "source": [
    "test_preds = pickle.load(open('/home/mitja/Downloads/test_preds.p', 'rb'))\n",
    "test_preds = test_preds[test_stim_types == STIM_TYPE]\n",
    "test_preds"
   ],
   "outputs": [],
   "execution_count": null
  },
  {
   "metadata": {
    "ExecuteTime": {
     "end_time": "2024-12-09T19:04:23.063995Z",
     "start_time": "2024-12-09T19:04:23.057091Z"
    }
   },
   "cell_type": "code",
   "source": [
    "test_stim_ids = test_stim_ids[test_stim_types == STIM_TYPE]\n",
    "# test_stim_types = test_stim_types[test_stim_types == STIM_TYPE]"
   ],
   "outputs": [],
   "execution_count": 22
  },
  {
   "metadata": {},
   "cell_type": "code",
   "source": [
    "train_preds = pickle.load(open('/home/mitja/Downloads/train_preds.p', 'rb'))\n",
    "train_preds"
   ],
   "outputs": [],
   "execution_count": null
  },
  {
   "metadata": {},
   "cell_type": "code",
   "source": [
    "from analyses.ridge_regression_decoding import load_latents_transform\n",
    "\n",
    "nn_latent_transform = load_latents_transform(\n",
    "            SUBJECT, MODEL, 'avg', 'vision_features_cls',\n",
    "                                    'lang_features_cls', 'train_image'\n",
    "        )\n",
    "nn_latent_transform['image']"
   ],
   "outputs": [],
   "execution_count": null
  },
  {
   "metadata": {},
   "cell_type": "code",
   "source": [
    "train_preds_transform = Standardize(train_preds.mean(axis=0), train_preds.std(axis=0))\n",
    "train_preds_transform.std"
   ],
   "outputs": [],
   "execution_count": null
  },
  {
   "metadata": {},
   "cell_type": "code",
   "source": [
    "concat_preds = np.concatenate((train_preds, preds), axis=0)\n",
    "print(concat_preds.shape)\n",
    "concat_preds_transform = Standardize(concat_preds.mean(axis=0), concat_preds.std(axis=0))\n",
    "train_preds_transform.std"
   ],
   "outputs": [],
   "execution_count": null
  },
  {
   "metadata": {},
   "cell_type": "code",
   "source": "concat_preds_transform(preds).std(axis=0)\n",
   "outputs": [],
   "execution_count": null
  },
  {
   "metadata": {},
   "cell_type": "code",
   "source": [
    "preds_transformed = concat_preds_transform(preds)\n",
    "print(preds_transformed.shape)\n",
    "preds_transformed.std(axis=0)"
   ],
   "outputs": [],
   "execution_count": null
  },
  {
   "metadata": {},
   "cell_type": "code",
   "source": "nn_latent_transform['image'](preds)\n",
   "outputs": [],
   "execution_count": null
  },
  {
   "cell_type": "code",
   "metadata": {
    "ExecuteTime": {
     "end_time": "2024-12-09T19:05:33.227639Z",
     "start_time": "2024-12-09T19:04:49.411213Z"
    }
   },
   "source": [
    "def display_stimuli(coco_ids):\n",
    "    # print(coco_ids)\n",
    "    for coco_id in coco_ids:\n",
    "        print(coco_ds.captions[coco_id], end=\"\\n\")\n",
    "\n",
    "coco_ds = CoCoDataset(COCO_IMAGES_DIR, STIM_INFO_PATH, STIMULI_IDS_PATH, 'caption')"
   ],
   "outputs": [],
   "execution_count": 25
  },
  {
   "metadata": {},
   "cell_type": "code",
   "source": "display_stimuli([139])",
   "outputs": [],
   "execution_count": null
  },
  {
   "metadata": {
    "ExecuteTime": {
     "end_time": "2024-12-09T15:08:51.309218Z",
     "start_time": "2024-12-09T15:08:51.303517Z"
    }
   },
   "cell_type": "code",
   "source": "test_stim_ids.shape",
   "outputs": [
    {
     "data": {
      "text/plain": [
       "(70,)"
      ]
     },
     "execution_count": 26,
     "metadata": {},
     "output_type": "execute_result"
    }
   ],
   "execution_count": 26
  },
  {
   "cell_type": "markdown",
   "metadata": {},
   "source": [
    "## With predictions averaged over all subjects:"
   ]
  },
  {
   "cell_type": "code",
   "metadata": {
    "scrolled": true,
    "ExecuteTime": {
     "end_time": "2024-12-09T19:30:59.846946Z",
     "start_time": "2024-12-09T19:30:59.487935Z"
    }
   },
   "source": [
    "NUM_SAMPLES = 5\n",
    "N_NEIGHBORS = 5\n",
    "# training_mode = 'modality-agnostic'\n",
    "training_mode = 'images'\n",
    "\n",
    "\n",
    "\n",
    "print(f\"fMRI stimulus modality: {STIM_TYPE}\")\n",
    "# for subject in SUBJECTS:\n",
    "    # df_subj = df[df.subject == subject]\n",
    "    # \n",
    "    # test_predictions = df_subj[df_subj.metric == \"predictions\"].value.item()\n",
    "    # test_latents = df_subj[df_subj.metric == \"latents\"].value.item()\n",
    "    # test_stimulus_ids = df_subj[df_subj.metric == \"stimulus_ids\"].value.item()\n",
    "    # stimulus_types = df_subj[df_subj.metric == \"stimulus_types\"].value.item()\n",
    "    # \n",
    "    # test_latents = test_latents[stimulus_types == stimulus_type]\n",
    "    # test_stimulus_ids = test_stimulus_ids[stimulus_types == stimulus_type]\n",
    "    # test_predictions = test_predictions[stimulus_types == stimulus_type]\n",
    "    \n",
    "# candidate_set_latents = targets\n",
    "# candidate_set_latents_ids = test_stim_ids\n",
    "\n",
    "test_predictions = preds\n",
    "# preds_standardize = Standardize(preds.mean(axis=0), preds.std(axis=0))\n",
    "# test_predictions = preds_standardize(test_predictions)\n",
    "\n",
    "# all_test_predictions.append(test_predictions)\n",
    "\n",
    "# test_predictions_averaged = np.mean(all_test_predictions, axis=0)\n",
    "\n",
    "candidate_set_latents = np.concatenate((latents, targets))\n",
    "candidate_set_latents_ids = np.concatenate((stim_ids, test_stim_ids))\n",
    "    \n",
    "dist_mat = get_distance_matrix(test_predictions, candidate_set_latents)\n",
    "acc = dist_mat_to_pairwise_acc(dist_mat)\n",
    "print(f\"Pairwise acc: {acc:.2f}\")\n",
    "np.random.seed(7)\n",
    "sampled_ids = np.random.choice(range(len(test_stim_ids)), NUM_SAMPLES, replace=False)\n",
    "test_stimulus_ids = test_stim_ids[sampled_ids]\n",
    "dist_mat = dist_mat[sampled_ids]\n",
    "\n",
    "for test_stimulus_id, nneighbors_row in zip(test_stimulus_ids, dist_mat):\n",
    "    print(f\"test stimulus: {test_stimulus_id}\")\n",
    "    display_stimuli([test_stimulus_id])\n",
    "    # if STIM_TYPE == CAPTION:\n",
    "    #     print(coco_ds.get_stimuli_by_coco_id(test_stimulus_id)[1])\n",
    "    # else:\n",
    "    #     img = coco_ds.get_img_by_coco_id(test_stimulus_id)\n",
    "    #     new_width  = 400\n",
    "    #     new_height = round(new_width * img.height / img.width)\n",
    "    #     display(img.resize((new_width, new_height)))\n",
    "    target_location = np.argwhere(candidate_set_latents_ids == test_stimulus_id)[0][0]\n",
    "    nneighbors_ids = candidate_set_latents_ids[np.argsort(nneighbors_row)]\n",
    "    rank = np.argwhere(nneighbors_ids == test_stimulus_id)[0][0]\n",
    "    # all_ranks.append(rank)\n",
    "    # display(f\"distance to target: {nneighbors_row[target_location]:.3f} | rank: {rank} of {len(nneighbors_row)}\")\n",
    "    # display(f\"nearest neighbors distances: {np.sort(nneighbors_row)[:10]}\")\n",
    "    print(\"nearest neighbors: \")\n",
    "\n",
    "    display_stimuli(nneighbors_ids[:N_NEIGHBORS])\n",
    "    print(\"\\n\")\n",
    "    \n",
    "# print(f\"mean rank: {np.mean(all_ranks)}\")\n"
   ],
   "outputs": [
    {
     "name": "stdout",
     "output_type": "stream",
     "text": [
      "fMRI stimulus modality: image\n",
      "Pairwise acc: 0.52\n",
      "test stimulus: 163240\n",
      "A train coming up the tracks through trees\n",
      "nearest neighbors: \n",
      "a train that is parked by many others\n",
      "A city train stopped at the train station\n",
      "a number of trains on tracks near a building\n",
      "a train at a standstill next to a platform\n",
      "A train sitting inside of a train station\n",
      "\n",
      "\n",
      "test stimulus: 16764\n",
      "A small dog standing inside a car\n",
      "nearest neighbors: \n",
      "A cat sitting on a toilet in a room\n",
      "A cat sitting on top of a vase\n",
      "A white toilet sitting in a corner of a room\n",
      "A person sitting on a chair with a cake\n",
      "a room with a toilet and a dustbin\n",
      "\n",
      "\n",
      "test stimulus: 450719\n",
      "A giraffe drinking water from a man-made pond\n",
      "nearest neighbors: \n",
      "A person grinding down a rail with skis\n",
      "a person riding skis on a rail\n",
      "A dog that is climbing onto a bowl\n",
      "A snowboarder going on a rail in the snow\n",
      "a cat sitting in a bathroom sink\n",
      "\n",
      "\n",
      "test stimulus: 195406\n",
      "The teddy bear has a big bright red bow\n",
      "nearest neighbors: \n",
      "A very cute cat laying in a bowl\n",
      "a cat in a toilet in a bath room\n",
      "a bowl of different kinds of food on it\n",
      "a cat on top of a toilet bowl in a bathroom\n",
      "A cat drinking water out of a sink\n",
      "\n",
      "\n",
      "test stimulus: 353260\n",
      "A lot of cars driving on a packed highway\n",
      "nearest neighbors: \n",
      "a train parked out side a large train station\n",
      "A train is parked at a train station\n",
      "a train that is parked by many others\n",
      "a number of trains on tracks near a building\n",
      "A train sits near another train in a town\n",
      "\n",
      "\n"
     ]
    }
   ],
   "execution_count": 36
  },
  {
   "cell_type": "markdown",
   "metadata": {},
   "source": [
    "## Per-subject:"
   ]
  },
  {
   "cell_type": "code",
   "metadata": {},
   "source": [
    "NUM_SAMPLES = 5\n",
    "N_NEIGHBORS = 5\n",
    "\n",
    "NUM_SUBJECTS = 2\n",
    "\n",
    "training_mode = 'modality-agnostic'\n",
    "# training_mode = 'images'\n",
    "\n",
    "df = data_default_feats.copy()\n",
    "\n",
    "df = df[df.model == MODEL]\n",
    "df = df[df.training_mode == training_mode]\n",
    "df = df[df.surface == False]\n",
    "\n",
    "assert len(df[df.metric == \"predictions\"]) == len(SUBJECTS)\n",
    "\n",
    "for subject in SUBJECTS[:NUM_SUBJECTS]:\n",
    "    print(f\"\\n\\nSubject: {subject}\")\n",
    "\n",
    "    for stimulus_type in [IMAGE, CAPTION]:\n",
    "        all_ranks = []\n",
    "        print(f\"fMRI stimulus modality: {stimulus_type}\")\n",
    "        df_subj = df[df.subject == subject]\n",
    "        \n",
    "        test_predictions = df_subj[df_subj.metric == \"predictions\"].value.item()\n",
    "        test_latents = df_subj[df_subj.metric == \"latents\"].value.item()\n",
    "        test_stimulus_ids = df_subj[df_subj.metric == \"stimulus_ids\"].value.item()\n",
    "        stimulus_types = df_subj[df_subj.metric == \"stimulus_types\"].value.item()\n",
    "    \n",
    "        test_latents_in_mod = test_latents[stimulus_types == stimulus_type]\n",
    "        test_stimulus_ids_in_mod = test_stimulus_ids[stimulus_types == stimulus_type]\n",
    "        test_predictions_in_mod = test_predictions[stimulus_types == stimulus_type]\n",
    "       \n",
    "        candidate_set_latents = np.concatenate((train_latents[subject], test_latents_in_mod))\n",
    "        candidate_set_latents_ids = np.concatenate((train_stim_ids[subject], test_stimulus_ids_in_mod))\n",
    "    \n",
    "        preds_standardize = Standardize(test_predictions_in_mod.mean(axis=0), test_predictions_in_mod.std(axis=0))\n",
    "        test_predictions_in_mod = preds_standardize(test_predictions_in_mod)\n",
    "    \n",
    "        # targets_standardize = Standardize(candidate_set_latents.mean(axis=0), candidate_set_latents.std(axis=0))\n",
    "        # candidate_set_latents = targets_standardize(candidate_set_latents)\n",
    "    \n",
    "        dist_mat = get_distance_matrix(test_predictions_in_mod, candidate_set_latents) #, metric=\"euclidean\"\n",
    "        acc = dist_mat_to_pairwise_acc(dist_mat)\n",
    "        print(f\"Pairwise acc: {acc:.2f}\")\n",
    "        np.random.seed(7)\n",
    "        sampled_ids = np.random.choice(range(len(test_stimulus_ids_in_mod)), NUM_SAMPLES, replace=False)\n",
    "        test_stimulus_ids_in_mod = test_stimulus_ids_in_mod[sampled_ids]\n",
    "        dist_mat = dist_mat[sampled_ids]\n",
    "        \n",
    "        for test_stimulus_id, nneighbors_row in zip(test_stimulus_ids_in_mod, dist_mat):\n",
    "            print(f\"test stimulus: {test_stimulus_id}\")\n",
    "            if stimulus_type == CAPTION:\n",
    "                print(coco_ds.get_stimuli_by_coco_id(test_stimulus_id)[1])\n",
    "            else:\n",
    "                display(coco_ds.get_img_by_coco_id(test_stimulus_id))\n",
    "            target_location = np.argwhere(candidate_set_latents_ids == test_stimulus_id)[0][0]\n",
    "            nneighbors_ids = candidate_set_latents_ids[np.argsort(nneighbors_row)]\n",
    "            rank = np.argwhere(nneighbors_ids == test_stimulus_id)[0][0]\n",
    "            all_ranks.append(rank)\n",
    "            # display(f\"distance to target: {nneighbors_row[target_location]:.3f} | rank: {rank} of {len(nneighbors_row)}\")\n",
    "            # display(f\"nearest neighbors distances: {np.sort(nneighbors_row)[:10]}\")\n",
    "            display_stimuli(nneighbors_ids[:N_NEIGHBORS])\n",
    "            print(\"\\n\")\n",
    "        \n",
    "        # print(f\"mean rank: {np.mean(all_ranks)}\")\n",
    "        print(\"\\n\\n\")\n"
   ],
   "outputs": [],
   "execution_count": null
  },
  {
   "cell_type": "code",
   "metadata": {},
   "source": [],
   "outputs": [],
   "execution_count": null
  },
  {
   "cell_type": "code",
   "metadata": {},
   "source": [],
   "outputs": [],
   "execution_count": null
  }
 ],
 "metadata": {
  "kernelspec": {
   "display_name": "Python 3",
   "language": "python",
   "name": "python3"
  },
  "language_info": {
   "codemirror_mode": {
    "name": "ipython",
    "version": 3
   },
   "file_extension": ".py",
   "mimetype": "text/x-python",
   "name": "python",
   "nbconvert_exporter": "python",
   "pygments_lexer": "ipython3",
   "version": "3.9.18"
  },
  "vscode": {
   "interpreter": {
    "hash": "64c2261fd1335a391d209058834a77a3cc43bbc1dadc63860e2129a303b1f182"
   }
  }
 },
 "nbformat": 4,
 "nbformat_minor": 4
}
