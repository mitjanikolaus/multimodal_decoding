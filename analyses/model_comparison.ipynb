{
 "cells": [
  {
   "cell_type": "code",
   "execution_count": 1,
   "metadata": {
    "ExecuteTime": {
     "end_time": "2023-12-12T10:31:26.216288860Z",
     "start_time": "2023-12-12T10:31:26.209251348Z"
    }
   },
   "outputs": [
    {
     "name": "stderr",
     "output_type": "stream",
     "text": [
      "/home/mitja/anaconda3/envs/multimodal_decoding/lib/python3.9/site-packages/tqdm/auto.py:21: TqdmWarning: IProgress not found. Please update jupyter and ipywidgets. See https://ipywidgets.readthedocs.io/en/stable/user_install.html\n",
      "  from .autonotebook import tqdm as notebook_tqdm\n"
     ]
    }
   ],
   "source": [
    "import os\n",
    "import numpy as np\n",
    "import matplotlib.pyplot as plt\n",
    "import pandas as pd\n",
    "import seaborn as sns\n",
    "\n",
    "from glob import glob\n",
    "import pickle\n",
    "from tqdm import tqdm\n",
    "\n",
    "from utils import FEATURES_DIR, RESULTS_DIR\n",
    "from analyses.ridge_regression_decoding import NUM_CV_SPLITS, GLM_OUT_DIR\n",
    "from notebook_utils import load_results_data"
   ]
  },
  {
   "cell_type": "code",
   "execution_count": 2,
   "metadata": {},
   "outputs": [
    {
     "data": {
      "text/html": [
       "<div>\n",
       "<style scoped>\n",
       "    .dataframe tbody tr th:only-of-type {\n",
       "        vertical-align: middle;\n",
       "    }\n",
       "\n",
       "    .dataframe tbody tr th {\n",
       "        vertical-align: top;\n",
       "    }\n",
       "\n",
       "    .dataframe thead th {\n",
       "        text-align: right;\n",
       "    }\n",
       "</style>\n",
       "<table border=\"1\" class=\"dataframe\">\n",
       "  <thead>\n",
       "    <tr style=\"text-align: right;\">\n",
       "      <th></th>\n",
       "      <th>alpha</th>\n",
       "      <th>model</th>\n",
       "      <th>subject</th>\n",
       "      <th>features</th>\n",
       "      <th>training_mode</th>\n",
       "      <th>testing_mode</th>\n",
       "      <th>fold</th>\n",
       "      <th>best_val_loss</th>\n",
       "      <th>best_val_acc</th>\n",
       "      <th>metric</th>\n",
       "      <th>value</th>\n",
       "    </tr>\n",
       "  </thead>\n",
       "  <tbody>\n",
       "    <tr>\n",
       "      <th>0</th>\n",
       "      <td>1.0</td>\n",
       "      <td>clip_avg</td>\n",
       "      <td>sub-01</td>\n",
       "      <td>avg</td>\n",
       "      <td>train</td>\n",
       "      <td>test</td>\n",
       "      <td>0.0</td>\n",
       "      <td>False</td>\n",
       "      <td>False</td>\n",
       "      <td>val_loss</td>\n",
       "      <td>0.949708</td>\n",
       "    </tr>\n",
       "    <tr>\n",
       "      <th>1</th>\n",
       "      <td>1.0</td>\n",
       "      <td>clip_avg</td>\n",
       "      <td>sub-01</td>\n",
       "      <td>avg</td>\n",
       "      <td>train</td>\n",
       "      <td>test</td>\n",
       "      <td>0.0</td>\n",
       "      <td>False</td>\n",
       "      <td>False</td>\n",
       "      <td>val_rsa</td>\n",
       "      <td>0.031339</td>\n",
       "    </tr>\n",
       "    <tr>\n",
       "      <th>2</th>\n",
       "      <td>1.0</td>\n",
       "      <td>clip_avg</td>\n",
       "      <td>sub-01</td>\n",
       "      <td>avg</td>\n",
       "      <td>train</td>\n",
       "      <td>test</td>\n",
       "      <td>0.0</td>\n",
       "      <td>False</td>\n",
       "      <td>False</td>\n",
       "      <td>rsa</td>\n",
       "      <td>0.189683</td>\n",
       "    </tr>\n",
       "    <tr>\n",
       "      <th>3</th>\n",
       "      <td>1.0</td>\n",
       "      <td>clip_avg</td>\n",
       "      <td>sub-01</td>\n",
       "      <td>avg</td>\n",
       "      <td>train</td>\n",
       "      <td>test</td>\n",
       "      <td>0.0</td>\n",
       "      <td>False</td>\n",
       "      <td>False</td>\n",
       "      <td>acc_cosine</td>\n",
       "      <td>0.867081</td>\n",
       "    </tr>\n",
       "    <tr>\n",
       "      <th>4</th>\n",
       "      <td>1.0</td>\n",
       "      <td>clip_avg</td>\n",
       "      <td>sub-01</td>\n",
       "      <td>avg</td>\n",
       "      <td>train</td>\n",
       "      <td>test</td>\n",
       "      <td>0.0</td>\n",
       "      <td>False</td>\n",
       "      <td>False</td>\n",
       "      <td>acc_cosine_captions</td>\n",
       "      <td>0.831884</td>\n",
       "    </tr>\n",
       "    <tr>\n",
       "      <th>...</th>\n",
       "      <td>...</td>\n",
       "      <td>...</td>\n",
       "      <td>...</td>\n",
       "      <td>...</td>\n",
       "      <td>...</td>\n",
       "      <td>...</td>\n",
       "      <td>...</td>\n",
       "      <td>...</td>\n",
       "      <td>...</td>\n",
       "      <td>...</td>\n",
       "      <td>...</td>\n",
       "    </tr>\n",
       "    <tr>\n",
       "      <th>1561</th>\n",
       "      <td>1.0</td>\n",
       "      <td>clip_avg</td>\n",
       "      <td>sub-07</td>\n",
       "      <td>avg</td>\n",
       "      <td>train</td>\n",
       "      <td>test</td>\n",
       "      <td>4.0</td>\n",
       "      <td>False</td>\n",
       "      <td>False</td>\n",
       "      <td>rsa</td>\n",
       "      <td>0.207281</td>\n",
       "    </tr>\n",
       "    <tr>\n",
       "      <th>1562</th>\n",
       "      <td>1.0</td>\n",
       "      <td>clip_avg</td>\n",
       "      <td>sub-07</td>\n",
       "      <td>avg</td>\n",
       "      <td>train</td>\n",
       "      <td>test</td>\n",
       "      <td>4.0</td>\n",
       "      <td>False</td>\n",
       "      <td>False</td>\n",
       "      <td>acc_cosine</td>\n",
       "      <td>0.876398</td>\n",
       "    </tr>\n",
       "    <tr>\n",
       "      <th>1563</th>\n",
       "      <td>1.0</td>\n",
       "      <td>clip_avg</td>\n",
       "      <td>sub-07</td>\n",
       "      <td>avg</td>\n",
       "      <td>train</td>\n",
       "      <td>test</td>\n",
       "      <td>4.0</td>\n",
       "      <td>False</td>\n",
       "      <td>False</td>\n",
       "      <td>acc_cosine_captions</td>\n",
       "      <td>0.816356</td>\n",
       "    </tr>\n",
       "    <tr>\n",
       "      <th>1564</th>\n",
       "      <td>1.0</td>\n",
       "      <td>clip_avg</td>\n",
       "      <td>sub-07</td>\n",
       "      <td>avg</td>\n",
       "      <td>train</td>\n",
       "      <td>test</td>\n",
       "      <td>4.0</td>\n",
       "      <td>False</td>\n",
       "      <td>False</td>\n",
       "      <td>acc_cosine_images</td>\n",
       "      <td>0.948033</td>\n",
       "    </tr>\n",
       "    <tr>\n",
       "      <th>1565</th>\n",
       "      <td>1.0</td>\n",
       "      <td>clip_avg</td>\n",
       "      <td>sub-07</td>\n",
       "      <td>avg</td>\n",
       "      <td>train</td>\n",
       "      <td>test</td>\n",
       "      <td>4.0</td>\n",
       "      <td>False</td>\n",
       "      <td>False</td>\n",
       "      <td>val_acc_cosine</td>\n",
       "      <td>0.675170</td>\n",
       "    </tr>\n",
       "  </tbody>\n",
       "</table>\n",
       "<p>1566 rows × 11 columns</p>\n",
       "</div>"
      ],
      "text/plain": [
       "      alpha     model subject features training_mode testing_mode  fold  \\\n",
       "0       1.0  clip_avg  sub-01      avg         train         test   0.0   \n",
       "1       1.0  clip_avg  sub-01      avg         train         test   0.0   \n",
       "2       1.0  clip_avg  sub-01      avg         train         test   0.0   \n",
       "3       1.0  clip_avg  sub-01      avg         train         test   0.0   \n",
       "4       1.0  clip_avg  sub-01      avg         train         test   0.0   \n",
       "...     ...       ...     ...      ...           ...          ...   ...   \n",
       "1561    1.0  clip_avg  sub-07      avg         train         test   4.0   \n",
       "1562    1.0  clip_avg  sub-07      avg         train         test   4.0   \n",
       "1563    1.0  clip_avg  sub-07      avg         train         test   4.0   \n",
       "1564    1.0  clip_avg  sub-07      avg         train         test   4.0   \n",
       "1565    1.0  clip_avg  sub-07      avg         train         test   4.0   \n",
       "\n",
       "      best_val_loss  best_val_acc               metric     value  \n",
       "0             False         False             val_loss  0.949708  \n",
       "1             False         False              val_rsa  0.031339  \n",
       "2             False         False                  rsa  0.189683  \n",
       "3             False         False           acc_cosine  0.867081  \n",
       "4             False         False  acc_cosine_captions  0.831884  \n",
       "...             ...           ...                  ...       ...  \n",
       "1561          False         False                  rsa  0.207281  \n",
       "1562          False         False           acc_cosine  0.876398  \n",
       "1563          False         False  acc_cosine_captions  0.816356  \n",
       "1564          False         False    acc_cosine_images  0.948033  \n",
       "1565          False         False       val_acc_cosine  0.675170  \n",
       "\n",
       "[1566 rows x 11 columns]"
      ]
     },
     "execution_count": 2,
     "metadata": {},
     "output_type": "execute_result"
    }
   ],
   "source": [
    "all_data = load_results_data()\n",
    "all_data"
   ]
  },
  {
   "cell_type": "code",
   "execution_count": 13,
   "metadata": {},
   "outputs": [],
   "source": [
    "def add_avg_subject(df):\n",
    "    df_mean = df.copy()\n",
    "    df_mean[\"subject\"] = \"average\"\n",
    "    df = pd.concat((df.copy(), df_mean))\n",
    "    return df\n",
    "\n",
    "distance_metric = 'cosine'\n",
    "METRICS = [f'acc_{distance_metric}', f'acc_{distance_metric}_captions', f'acc_{distance_metric}_images']\n",
    "\n",
    "def plot_test_metrics(data, hue_variable=\"model\", metrics=METRICS, ylim=(0.5, 1)):\n",
    "    data_filtered = data[data.metric.isin(metrics)]\n",
    "    # data_filtered = data\n",
    "    data_filtered = add_avg_subject(data_filtered)\n",
    "\n",
    "    sns.set_style(\"ticks\", {'axes.grid' : True})\n",
    "    g = sns.catplot(data_filtered, kind=\"bar\", x=\"subject\", y=\"value\", col=\"metric\", height=4, aspect=1, hue=hue_variable)#, palette=\"Set3\"\n",
    "    g._legend.remove()\n",
    "    g.fig.legend(loc='upper left', title=\"\", bbox_to_anchor=(1, 0.9)) # ,ncol=2\n",
    "\n",
    "    g.set(ylim=ylim)\n",
    "    \n",
    "    plt.suptitle(\"Test Performance\", fontsize=16)\n",
    "    plt.tight_layout()\n",
    "    \n",
    "    plt.savefig(os.path.join(RESULTS_DIR, f\"model_comparison_{metrics[0]}.png\"), dpi=300)\n",
    "\n"
   ]
  },
  {
   "cell_type": "code",
   "execution_count": 14,
   "metadata": {},
   "outputs": [
    {
     "data": {
      "image/png": "[encoded data removed]",
      "text/plain": [
       "<Figure size 935.5x288 with 3 Axes>"
      ]
     },
     "metadata": {},
     "output_type": "display_data"
    },
    {
     "data": {
      "image/png": "[encoded data removed]",
      "text/plain": [
       "<Figure size 359.5x288 with 1 Axes>"
      ]
     },
     "metadata": {},
     "output_type": "display_data"
    }
   ],
   "source": [
    "data_to_plot = all_data\n",
    "\n",
    "data_to_plot = data_to_plot[(data_to_plot.best_val_acc == True) | (data_to_plot.best_val_loss == True)]\n",
    "\n",
    "# data_to_plot = data_to_plot[data_to_plot.best_val_acc == True]\n",
    "# data_to_plot = data_to_plot[data_to_plot.best_val_loss == True]\n",
    "\n",
    "data_to_plot = data_to_plot[data_to_plot.subject.isin(['sub-01', 'sub-02'])]\n",
    "data_to_plot = data_to_plot[data_to_plot.model.isin(['clip_avg'])]\n",
    "\n",
    "plot_test_metrics(data_to_plot, hue_variable=\"best_val_acc\")\n",
    "plot_test_metrics(data_to_plot, hue_variable=\"best_val_acc\", metrics=[\"rsa\"], ylim=(0, 0.3))"
   ]
  },
  {
   "cell_type": "code",
   "execution_count": 15,
   "metadata": {},
   "outputs": [
    {
     "data": {
      "image/png": "[encoded data removed]",
      "text/plain": [
       "<Figure size 953.875x288 with 3 Axes>"
      ]
     },
     "metadata": {},
     "output_type": "display_data"
    },
    {
     "data": {
      "image/png": "[encoded data removed]",
      "text/plain": [
       "<Figure size 377.875x288 with 1 Axes>"
      ]
     },
     "metadata": {},
     "output_type": "display_data"
    }
   ],
   "source": [
    "data_to_plot = all_data\n",
    "\n",
    "data_to_plot = data_to_plot[data_to_plot.best_val_acc == True]\n",
    "# data_to_plot = data_to_plot[data_to_plot.best_val_loss == True]\n",
    "\n",
    "data_to_plot = data_to_plot[data_to_plot.subject.isin(['sub-01', 'sub-02'])]\n",
    "data_to_plot = data_to_plot[data_to_plot.model.isin(['clip_lang', 'vilt_concat'])]\n",
    "\n",
    "plot_test_metrics(data_to_plot)\n",
    "plot_test_metrics(data_to_plot, metrics=[\"rsa\"], ylim=(0, 0.3))"
   ]
  },
  {
   "cell_type": "code",
   "execution_count": 6,
   "metadata": {},
   "outputs": [
    {
     "data": {
      "text/plain": [
       "array([  100000., 10000000.])"
      ]
     },
     "execution_count": 6,
     "metadata": {},
     "output_type": "execute_result"
    }
   ],
   "source": [
    "all_data[all_data.best_val_loss == True].alpha.unique()"
   ]
  },
  {
   "cell_type": "code",
   "execution_count": null,
   "metadata": {},
   "outputs": [],
   "source": []
  }
 ],
 "metadata": {
  "kernelspec": {
   "display_name": "Python 3",
   "language": "python",
   "name": "python3"
  },
  "language_info": {
   "codemirror_mode": {
    "name": "ipython",
    "version": 3
   },
   "file_extension": ".py",
   "mimetype": "text/x-python",
   "name": "python",
   "nbconvert_exporter": "python",
   "pygments_lexer": "ipython3",
   "version": "3.9.18"
  },
  "vscode": {
   "interpreter": {
    "hash": "64c2261fd1335a391d209058834a77a3cc43bbc1dadc63860e2129a303b1f182"
   }
  }
 },
 "nbformat": 4,
 "nbformat_minor": 4
}
