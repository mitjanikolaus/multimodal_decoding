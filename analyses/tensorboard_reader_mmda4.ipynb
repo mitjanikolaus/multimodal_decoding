{
 "cells": [
  {
   "cell_type": "markdown",
   "metadata": {},
   "source": [
    "# reading tensorboard files for compiling the results"
   ]
  },
  {
   "cell_type": "code",
   "execution_count": 175,
   "metadata": {
    "ExecuteTime": {
     "end_time": "2023-12-12T10:31:26.216288860Z",
     "start_time": "2023-12-12T10:31:26.209251348Z"
    }
   },
   "outputs": [],
   "source": [
    "import os\n",
    "from tensorboard.backend.event_processing import event_accumulator\n",
    "import numpy as np\n",
    "import matplotlib.pyplot as plt\n",
    "import pandas as pd\n",
    "import seaborn as sns\n",
    "\n",
    "from utils import FEATURES_DIR\n",
    "from analyses.ridge_regression_decoding_mni_mmda import NUM_CV_SPLITS\n",
    "\n",
    "plt.style.use('seaborn-v0_8-deep')\n",
    "from glob import glob\n",
    "from glob import escape as gescape\n",
    "from scipy.stats import sem\n",
    "import pickle"
   ]
  },
  {
   "cell_type": "code",
   "execution_count": 176,
   "metadata": {
    "ExecuteTime": {
     "end_time": "2023-12-12T11:34:07.919535982Z",
     "start_time": "2023-12-12T11:34:07.878747470Z"
    }
   },
   "outputs": [],
   "source": [
    "# results_root_dir = os.path.expanduser('~/data/multimodal_decoding/glm/regression_results_mni_mmda4_train')\n",
    "# results_root_dir = os.path.expanduser('~/data/multimodal_decoding/glm/regression_results_mni_mmda_val_set_train')\n",
    "# results_root_dir = os.path.expanduser('~/data/multimodal_decoding/glm/regression_results_mni_mmda_cv_train')\n",
    "results_root_dir = os.path.expanduser('~/data/multimodal_decoding/glm/regression_results_mni_mmda_cv_shuffle_train')\n",
    "\n",
    "model_names = [\n",
    "    'RESNET152_AVGPOOL',\n",
    "   #  'VITL16_ENCODER',\n",
    "   #  'CLIP_V',\n",
    "   # 'BERT_LARGE',\n",
    "   #  'GPT2XL_AVG',\n",
    "   # 'CLIP_L',\n",
    "    # 'RESNET152_AVGPOOL_PCA768',\n",
    "     # 'GPT2XL_AVG_PCA768',\n",
    "     # 'VITL16_ENCODER_PCA768',\n",
    "    # 'CLIP_L_PCA768',\n",
    "    # 'CLIP_V_PCA768'\n",
    "]\n",
    "\n",
    "# subjects = ['sub-01', 'sub-02', 'sub-04', 'sub-05', 'sub-07']\n",
    "subjects = ['sub-01']#, 'sub-02']"
   ]
  },
  {
   "cell_type": "code",
   "execution_count": 177,
   "metadata": {
    "ExecuteTime": {
     "end_time": "2023-12-12T11:34:08.393265142Z",
     "start_time": "2023-12-12T11:34:08.371179125Z"
    }
   },
   "outputs": [],
   "source": [
    "class HyperParameters():\n",
    "    def __init__(self, optimizer='SGD', lr=0.01, wd=0.01, dropout=False, loss='MSE', full_train=False) -> None:\n",
    "        self.optimizer = optimizer\n",
    "        self.lr = lr\n",
    "        self.wd = wd\n",
    "        self.dropout = dropout\n",
    "        self.loss = loss\n",
    "        self.full_train = full_train\n",
    "    \n",
    "    def get_hp_string(self):\n",
    "        descr = f\"[optim:{self.optimizer}][lr:{str(self.lr).replace('.','-')}][wd:{str(self.wd).replace('.','-')}][drop:{self.dropout}][loss:{self.loss}]\"\n",
    "        if self.full_train:\n",
    "            descr += \"_full_train\"\n",
    "        return descr\n",
    "\n",
    "    def __iter__(self):\n",
    "        yield self.optimizer\n",
    "        yield self.lr\n",
    "        yield self.wd\n",
    "        yield self.dropout\n",
    "        yield self.loss"
   ]
  },
  {
   "cell_type": "code",
   "execution_count": 178,
   "metadata": {
    "ExecuteTime": {
     "end_time": "2023-12-12T11:34:08.992049459Z",
     "start_time": "2023-12-12T11:34:08.982340039Z"
    }
   },
   "outputs": [
    {
     "data": {
      "text/plain": [
       "[<__main__.HyperParameters at 0x7f8c354acdc0>,\n",
       " <__main__.HyperParameters at 0x7f8c354acdf0>]"
      ]
     },
     "execution_count": 178,
     "metadata": {},
     "output_type": "execute_result"
    }
   ],
   "source": [
    "MAXEPOCH = 400\n",
    "\n",
    "test_loss_key = 'Testing/MSE loss'\n",
    "\n",
    "MODE_PYTORCH = \"PYTORCH\"\n",
    "MODE_SKLEARN = \"SKLEARN\"\n",
    "SKLEARN_ALPHAS = [1, 10, 100]\n",
    "\n",
    "MODE = MODE_PYTORCH\n",
    "\n",
    "if MODE == MODE_PYTORCH:\n",
    "    HPs = [\n",
    "        # HyperParameters(optimizer='SGD', lr=0.1, wd=0.0, dropout=False, loss='MSE'),\n",
    "        # HyperParameters(optimizer='SGD', lr=0.01, wd=0.0, dropout=False, loss='MSE'),\n",
    "        # HyperParameters(optimizer='SGD', lr=0.001, wd=0.0, dropout=False, loss='MSE'),\n",
    "\n",
    "        # HyperParameters(optimizer='SGD', lr=0.01, wd=0.1, dropout=False, loss='MSE'),\n",
    "        # HyperParameters(optimizer='SGD', lr=0.01, wd=1, dropout=False, loss='MSE'),\n",
    "        # HyperParameters(optimizer='SGD', lr=0.01, wd=10, dropout=False, loss='MSE'),\n",
    "\n",
    "        # HyperParameters(optimizer='SGD', lr=0.001, wd=0, dropout=False, loss='MSE', full_train=True),\n",
    "\n",
    "        \n",
    "        # HyperParameters(optimizer='ADAM', lr=0.0001, wd=0.00, dropout=False, loss='MSE'),\n",
    "        # HyperParameters(optimizer='ADAM', lr=0.001, wd=0.00, dropout=False, loss='MSE'),\n",
    "        # HyperParameters(optimizer='ADAM', lr=0.01, wd=0.00, dropout=False, loss='MSE'),\n",
    "\n",
    "        # HyperParameters(optimizer='ADAM', lr=0.0001, wd=0.00, dropout=False, loss='MSE', full_train=True),\n",
    "\n",
    "\n",
    "        # # HyperParameters(optimizer='ADAM', lr=0.001, wd=0.01, dropout=False, loss='MSE'),\n",
    "        # # HyperParameters(optimizer='ADAM', lr=0.010, wd=0.01, dropout=False, loss='MSE'),\n",
    "        # # HyperParameters(optimizer='ADAM', lr=0.1, wd=0.01, dropout=False, loss='MSE'),\n",
    "\n",
    "        HyperParameters(optimizer='ADAM', lr=0.0001, wd=0.1, dropout=False, loss='MSE'),\n",
    "        HyperParameters(optimizer='ADAM', lr=0.001, wd=0.1, dropout=False, loss='MSE'),\n",
    "        # # HyperParameters(optimizer='ADAM', lr=0.01, wd=0.1, dropout=False, loss='MSE'),\n",
    "\n",
    "        # HyperParameters(optimizer='ADAM', lr=0.0001, wd=1, dropout=False, loss='MSE'),\n",
    "        # HyperParameters(optimizer='ADAM', lr=0.001, wd=1, dropout=False, loss='MSE'),\n",
    "        # # HyperParameters(optimizer='ADAM', lr=0.01, wd=1, dropout=False, loss='MSE'),\n",
    "\n",
    "        # HyperParameters(optimizer='ADAM', lr=0.0001, wd=10, dropout=False, loss='MSE'),\n",
    "        # HyperParameters(optimizer='ADAM', lr=0.001, wd=10, dropout=False, loss='MSE'),\n",
    "\n",
    "        # HyperParameters(optimizer='ADAM', lr=0.0001, wd=10, dropout=False, loss='MSE', full_train=True),\n",
    "\n",
    "        # HyperParameters(optimizer='ADAM', lr=0.0001, wd=1, dropout=False, loss='MSE', full_train=True),\n",
    "\n",
    "\n",
    "        # HyperParameters(optimizer='ADAM', lr=0.01, wd=0.01, dropout=False, loss='MSE', full_train=True),\n",
    "        # HyperParameters(optimizer='ADAM', lr=0.01, wd=0.0, dropout=False, loss='MSE', full_train=True),\n",
    "        # HyperParameters(optimizer='ADAM', lr=0.01, wd=0.01, dropout=False, loss='MSE', full_train=True),\n",
    "    ]\n",
    "else:\n",
    "    HPs = [HyperParameters(wd=alpha) for alpha in SKLEARN_ALPHAS]\n",
    "\n",
    "HPs"
   ]
  },
  {
   "cell_type": "code",
   "execution_count": 179,
   "metadata": {
    "ExecuteTime": {
     "end_time": "2023-12-12T11:34:09.516253366Z",
     "start_time": "2023-12-12T11:34:09.466070512Z"
    }
   },
   "outputs": [],
   "source": [
    "# loss_results = {}\n",
    "# result_files = {}\n",
    "\n",
    "\n",
    "# for subject in subjects:\n",
    "#     result_files[subject] = {}\n",
    "#     loss_results[subject] = {}\n",
    "#     for model_name in model_names:\n",
    "#         result_files[subject][model_name] = {}\n",
    "#         loss_results[subject][model_name] = {}\n",
    "#         if MODE == MODE_PYTORCH:\n",
    "#             raise NotImplementedError()\n",
    "#         else:\n",
    "#             for alpha, hp in zip(SKLEARN_ALPHAS, HPs):\n",
    "#                 hp_str = f'alpha_{alpha}'\n",
    "#                 distance_matrix_file = os.path.join(results_root_dir, subject, model_name, 'distance_matrix', f'sklearn_alpha_{alpha}', 'distance_matrix.p')\n",
    "#                 print(distance_matrix_file)\n",
    "#                 if os.path.isfile(distance_matrix_file):\n",
    "#                     distance_matrices[subject][model_name][hp] = pickle.load(open(distance_matrix_file, 'rb'))\n",
    "#                 else:\n",
    "#                     distance_matrices[subject][model_name][hp] = None\n"
   ]
  },
  {
   "attachments": {},
   "cell_type": "markdown",
   "metadata": {},
   "source": [
    "## best decoding accuracy for each HP across training epochs\n",
    "- find the best epoch based on the testing MSE loss\n",
    "- obtain the distance matrix corresponding to that epoch\n",
    "- calculate accuracy"
   ]
  },
  {
   "cell_type": "code",
   "execution_count": 180,
   "metadata": {
    "ExecuteTime": {
     "end_time": "2023-12-08T13:57:16.497307800Z",
     "start_time": "2023-12-08T13:57:16.494344080Z"
    }
   },
   "outputs": [],
   "source": [
    "# def pairwise_accuracy(dist_mat):\n",
    "#     # dist_mat      # d(i,j) -> distance of the prediction of i to the original of j\n",
    "#     # first 70 -> captions\n",
    "#     # second 70 -> images\n",
    "#     # since the AI model is the same, original of caption is the same as the original of the image\n",
    "    \n",
    "#     diag     = dist_mat.diagonal()[:, np.newaxis]               # all congruent distances\n",
    "#     comp_mat = diag < dist_mat                                  # we are interested in i,j where d(i,i) < d(i,j)\n",
    "#     corrects = comp_mat.sum()                                   # counting the trues (everything is counted two times because of the same ground-truth)\n",
    "    \n",
    "#     n = diag.shape[0]\n",
    "#     score_agnostic = corrects / (n*n-(2*n))                     # -2*n is there to remove the diagonal two times (as it is repeated two times)\n",
    "\n",
    "#     ######\n",
    "#     dist_captions = dist_mat[:70, :70]\n",
    "#     diag     = dist_captions.diagonal()[:, np.newaxis]               \n",
    "#     comp_mat = diag < dist_captions                                  \n",
    "#     corrects = comp_mat.sum()\n",
    "    \n",
    "#     n = diag.shape[0]\n",
    "#     score_captions = corrects / (n*n-n)\n",
    "#     ######\n",
    "#     dist_images   = dist_mat[70:, 70:]\n",
    "#     diag     = dist_images.diagonal()[:, np.newaxis]               \n",
    "#     comp_mat = diag < dist_images                                  \n",
    "#     corrects = comp_mat.sum()\n",
    "    \n",
    "#     n = diag.shape[0]\n",
    "#     score_images = corrects / (n*n-n)\n",
    "\n",
    "#     return score_agnostic, score_captions, score_images\n"
   ]
  },
  {
   "cell_type": "code",
   "execution_count": 181,
   "metadata": {
    "ExecuteTime": {
     "end_time": "2023-12-08T13:57:17.772289140Z",
     "start_time": "2023-12-08T13:57:17.767947548Z"
    }
   },
   "outputs": [],
   "source": [
    "distance_metric  = ['cosine', 'euclidean'][0]\n",
    "decoding_modes   = ['modality-agnostic', 'captions', 'images', 'rsa']"
   ]
  },
  {
   "cell_type": "code",
   "execution_count": 182,
   "metadata": {
    "ExecuteTime": {
     "end_time": "2023-12-08T13:57:21.579805786Z",
     "start_time": "2023-12-08T13:57:19.488964394Z"
    }
   },
   "outputs": [
    {
     "name": "stdout",
     "output_type": "stream",
     "text": [
      "sub-01\n",
      "sub-01\n"
     ]
    },
    {
     "name": "stderr",
     "output_type": "stream",
     "text": [
      "/home/mitja/anaconda3/envs/multimodal_decoding/lib/python3.9/site-packages/numpy/core/_methods.py:206: RuntimeWarning: Degrees of freedom <= 0 for slice\n",
      "  ret = _var(a, axis=axis, dtype=dtype, out=out, ddof=ddof,\n",
      "/home/mitja/anaconda3/envs/multimodal_decoding/lib/python3.9/site-packages/numpy/core/_methods.py:198: RuntimeWarning: invalid value encountered in scalar divide\n",
      "  ret = ret.dtype.type(ret / rcount)\n",
      "/home/mitja/anaconda3/envs/multimodal_decoding/lib/python3.9/site-packages/numpy/core/_methods.py:206: RuntimeWarning: Degrees of freedom <= 0 for slice\n",
      "  ret = _var(a, axis=axis, dtype=dtype, out=out, ddof=ddof,\n",
      "/home/mitja/anaconda3/envs/multimodal_decoding/lib/python3.9/site-packages/numpy/core/_methods.py:198: RuntimeWarning: invalid value encountered in scalar divide\n",
      "  ret = ret.dtype.type(ret / rcount)\n",
      "/home/mitja/anaconda3/envs/multimodal_decoding/lib/python3.9/site-packages/numpy/core/_methods.py:206: RuntimeWarning: Degrees of freedom <= 0 for slice\n",
      "  ret = _var(a, axis=axis, dtype=dtype, out=out, ddof=ddof,\n",
      "/home/mitja/anaconda3/envs/multimodal_decoding/lib/python3.9/site-packages/numpy/core/_methods.py:198: RuntimeWarning: invalid value encountered in scalar divide\n",
      "  ret = ret.dtype.type(ret / rcount)\n",
      "/home/mitja/anaconda3/envs/multimodal_decoding/lib/python3.9/site-packages/numpy/core/_methods.py:206: RuntimeWarning: Degrees of freedom <= 0 for slice\n",
      "  ret = _var(a, axis=axis, dtype=dtype, out=out, ddof=ddof,\n",
      "/home/mitja/anaconda3/envs/multimodal_decoding/lib/python3.9/site-packages/numpy/core/_methods.py:198: RuntimeWarning: invalid value encountered in scalar divide\n",
      "  ret = ret.dtype.type(ret / rcount)\n",
      "/home/mitja/anaconda3/envs/multimodal_decoding/lib/python3.9/site-packages/numpy/core/_methods.py:206: RuntimeWarning: Degrees of freedom <= 0 for slice\n",
      "  ret = _var(a, axis=axis, dtype=dtype, out=out, ddof=ddof,\n",
      "/home/mitja/anaconda3/envs/multimodal_decoding/lib/python3.9/site-packages/numpy/core/_methods.py:198: RuntimeWarning: invalid value encountered in scalar divide\n",
      "  ret = ret.dtype.type(ret / rcount)\n",
      "/home/mitja/anaconda3/envs/multimodal_decoding/lib/python3.9/site-packages/numpy/core/_methods.py:206: RuntimeWarning: Degrees of freedom <= 0 for slice\n",
      "  ret = _var(a, axis=axis, dtype=dtype, out=out, ddof=ddof,\n",
      "/home/mitja/anaconda3/envs/multimodal_decoding/lib/python3.9/site-packages/numpy/core/_methods.py:198: RuntimeWarning: invalid value encountered in scalar divide\n",
      "  ret = ret.dtype.type(ret / rcount)\n",
      "/home/mitja/anaconda3/envs/multimodal_decoding/lib/python3.9/site-packages/numpy/core/_methods.py:206: RuntimeWarning: Degrees of freedom <= 0 for slice\n",
      "  ret = _var(a, axis=axis, dtype=dtype, out=out, ddof=ddof,\n",
      "/home/mitja/anaconda3/envs/multimodal_decoding/lib/python3.9/site-packages/numpy/core/_methods.py:198: RuntimeWarning: invalid value encountered in scalar divide\n",
      "  ret = ret.dtype.type(ret / rcount)\n",
      "/home/mitja/anaconda3/envs/multimodal_decoding/lib/python3.9/site-packages/numpy/core/_methods.py:206: RuntimeWarning: Degrees of freedom <= 0 for slice\n",
      "  ret = _var(a, axis=axis, dtype=dtype, out=out, ddof=ddof,\n",
      "/home/mitja/anaconda3/envs/multimodal_decoding/lib/python3.9/site-packages/numpy/core/_methods.py:198: RuntimeWarning: invalid value encountered in scalar divide\n",
      "  ret = ret.dtype.type(ret / rcount)\n"
     ]
    },
    {
     "data": {
      "image/png": "[encoded data removed]",
      "text/plain": [
       "<Figure size 1728x288 with 4 Axes>"
      ]
     },
     "metadata": {
      "needs_background": "light"
     },
     "output_type": "display_data"
    }
   ],
   "source": [
    "fig, axes = plt.subplots(len(model_names), len(decoding_modes), figsize=(len(decoding_modes)*6, len(model_names)*4), squeeze=False)\n",
    "xticklabels = subjects[:] + ['average']\n",
    "xticks = np.arange(len(xticklabels))\n",
    "\n",
    "for row, model_name in enumerate(model_names):\n",
    "    # for col, decoding_mode in enumerate(decoding_modes):\n",
    "    bar_width = 0.8/len(HPs)\n",
    "    first_bar_offset = -0.4 + (bar_width/2)\n",
    "    bar_offsets = [first_bar_offset + (i*bar_width) for i in range(len(HPs))]\n",
    "    for hpidx, hp in enumerate(HPs):\n",
    "        subjects_accuracies = {mode: [] for mode in decoding_modes}\n",
    "        for subjectidx, subject in enumerate(subjects):\n",
    "            print(subject)\n",
    "            hp_str = hp.get_hp_string()\n",
    "            if not hp_str.endswith(\"full_train\"):\n",
    "                hp_str += 'fold_0' #TODO\n",
    "            # distance_matrix_file = os.path.join(results_root_dir, subject, model_name, 'distance_matrix', hp_str, 'distance_matrix.p')\n",
    "            results_file_path = os.path.join(results_root_dir, subject, model_name, hp_str, 'results_normalized.p')\n",
    "            if os.path.isfile(results_file_path): \n",
    "                results_file = pickle.load(open(results_file_path, 'rb'))\n",
    "                # accuracies = pairwise_accuracy(result_files[subject][model_name][hp][f\"distance_matrix_{distance_metric}\"])\n",
    "                # print(accuracies)\n",
    "                # print(result_files[subject][model_name][hp][f\"acc_{distance_metric}\"])\n",
    "                subjects_accuracies['modality-agnostic'].append(results_file[f\"acc_{distance_metric}\"])\n",
    "                subjects_accuracies['captions'].append(results_file[f\"acc_{distance_metric}_captions\"])\n",
    "                subjects_accuracies['images'].append(results_file[f\"acc_{distance_metric}_images\"])\n",
    "                rsa = results_file[\"rsa\"]\n",
    "                subjects_accuracies['rsa'].append(rsa)\n",
    "            else:\n",
    "                print(\"not found: \", results_file_path)\n",
    "                subjects_accuracies['modality-agnostic'].append(np.nan)\n",
    "                subjects_accuracies['captions'].append(np.nan)\n",
    "                subjects_accuracies['images'].append(np.nan)\n",
    "                subjects_accuracies['rsa'].append(np.nan)\n",
    "                \n",
    "        for col, decoding_mode in enumerate(decoding_modes):\n",
    "            subjects_accuracies_temp = np.array(subjects_accuracies[decoding_mode])\n",
    "            subjects_mean = subjects_accuracies_temp.mean()\n",
    "            subjects_sem  = [0] * len(xticklabels)\n",
    "            subjects_sem[-1] = sem(subjects_accuracies_temp)\n",
    "            subjects_accuracies[decoding_mode].append(subjects_mean)\n",
    "            axes[row,col].bar(xticks+bar_offsets[hpidx], subjects_accuracies[decoding_mode], bar_width, yerr=subjects_sem, label=f\"{hp.optimizer}(lr:{hp.lr:0.5f}, wd:{hp.wd:0.2f})[{hp.loss}]{'_full_train' if hp.full_train else ''}\")\n",
    "            # axes[row,col].bar(xticks[-1]+bar_offsets[hpidx], subjects_accuracies[-1], yerr=subjects_sem, width=bar_width)\n",
    "            axes[row,col].set_xticks(xticks)\n",
    "            axes[row,col].set_xticklabels(xticklabels)\n",
    "            axes[row,col].grid(alpha=0.5)\n",
    "            axes[row,col].set_title(f'{decoding_mode} | {model_name}')\n",
    "            axes[row,col].set_ylabel(f'Pairwise Accuracy - {distance_metric} distance')\n",
    "            axes[row,col].set_ylim(bottom=0, top=1.0)\n",
    "            # axes[row,col].axhline(y=0.5, color='r', linestyle='-')\n",
    "            if row == 0 and col == len(decoding_modes) - 1:\n",
    "                axes[row,col].legend(bbox_to_anchor=(1.1, 1.05))#loc=\"lower right\")\n",
    "fig.suptitle(\"Test Performance\", fontsize=16)\n",
    "plt.tight_layout()\n",
    "plt.savefig(\"test_performance.png\", dpi=300)"
   ]
  },
  {
   "cell_type": "code",
   "execution_count": 183,
   "metadata": {},
   "outputs": [
    {
     "name": "stderr",
     "output_type": "stream",
     "text": [
      "/home/mitja/anaconda3/envs/multimodal_decoding/lib/python3.9/site-packages/numpy/core/_methods.py:206: RuntimeWarning: Degrees of freedom <= 0 for slice\n",
      "  ret = _var(a, axis=axis, dtype=dtype, out=out, ddof=ddof,\n",
      "/home/mitja/anaconda3/envs/multimodal_decoding/lib/python3.9/site-packages/numpy/core/_methods.py:198: RuntimeWarning: invalid value encountered in scalar divide\n",
      "  ret = ret.dtype.type(ret / rcount)\n",
      "/home/mitja/anaconda3/envs/multimodal_decoding/lib/python3.9/site-packages/numpy/core/_methods.py:206: RuntimeWarning: Degrees of freedom <= 0 for slice\n",
      "  ret = _var(a, axis=axis, dtype=dtype, out=out, ddof=ddof,\n",
      "/home/mitja/anaconda3/envs/multimodal_decoding/lib/python3.9/site-packages/numpy/core/_methods.py:198: RuntimeWarning: invalid value encountered in scalar divide\n",
      "  ret = ret.dtype.type(ret / rcount)\n",
      "/home/mitja/anaconda3/envs/multimodal_decoding/lib/python3.9/site-packages/numpy/core/_methods.py:206: RuntimeWarning: Degrees of freedom <= 0 for slice\n",
      "  ret = _var(a, axis=axis, dtype=dtype, out=out, ddof=ddof,\n",
      "/home/mitja/anaconda3/envs/multimodal_decoding/lib/python3.9/site-packages/numpy/core/_methods.py:198: RuntimeWarning: invalid value encountered in scalar divide\n",
      "  ret = ret.dtype.type(ret / rcount)\n",
      "/home/mitja/anaconda3/envs/multimodal_decoding/lib/python3.9/site-packages/numpy/core/_methods.py:206: RuntimeWarning: Degrees of freedom <= 0 for slice\n",
      "  ret = _var(a, axis=axis, dtype=dtype, out=out, ddof=ddof,\n",
      "/home/mitja/anaconda3/envs/multimodal_decoding/lib/python3.9/site-packages/numpy/core/_methods.py:198: RuntimeWarning: invalid value encountered in scalar divide\n",
      "  ret = ret.dtype.type(ret / rcount)\n",
      "/home/mitja/anaconda3/envs/multimodal_decoding/lib/python3.9/site-packages/numpy/core/_methods.py:206: RuntimeWarning: Degrees of freedom <= 0 for slice\n",
      "  ret = _var(a, axis=axis, dtype=dtype, out=out, ddof=ddof,\n",
      "/home/mitja/anaconda3/envs/multimodal_decoding/lib/python3.9/site-packages/numpy/core/_methods.py:198: RuntimeWarning: invalid value encountered in scalar divide\n",
      "  ret = ret.dtype.type(ret / rcount)\n",
      "/home/mitja/anaconda3/envs/multimodal_decoding/lib/python3.9/site-packages/numpy/core/_methods.py:206: RuntimeWarning: Degrees of freedom <= 0 for slice\n",
      "  ret = _var(a, axis=axis, dtype=dtype, out=out, ddof=ddof,\n",
      "/home/mitja/anaconda3/envs/multimodal_decoding/lib/python3.9/site-packages/numpy/core/_methods.py:198: RuntimeWarning: invalid value encountered in scalar divide\n",
      "  ret = ret.dtype.type(ret / rcount)\n"
     ]
    },
    {
     "data": {
      "image/png": "[encoded data removed]",
      "text/plain": [
       "<Figure size 1296x288 with 3 Axes>"
      ]
     },
     "metadata": {
      "needs_background": "light"
     },
     "output_type": "display_data"
    }
   ],
   "source": [
    "decoding_modes   = ['modality-agnostic', 'captions', 'images']\n",
    "loss_names = [\"train_loss\", \"val_loss\", \"test_loss\"]\n",
    "fig, axes = plt.subplots(len(model_names), len(loss_names), figsize=(len(loss_names)*6, len(model_names)*4), squeeze=False)\n",
    "xticklabels = subjects[:] + ['average']\n",
    "xticks = np.arange(len(xticklabels))\n",
    "\n",
    "current_hps = [hp for hp in HPs if not hp.full_train]\n",
    "for row, model_name in enumerate(model_names):\n",
    "    # for col, decoding_mode in enumerate(decoding_modes):\n",
    "    bar_width = 0.8/len(current_hps)\n",
    "    first_bar_offset = -0.4 + (bar_width/2)\n",
    "    bar_offsets = [first_bar_offset + (i*bar_width) for i in range(len(current_hps))]\n",
    "    for hpidx, hp in enumerate(current_hps):\n",
    "        subjects_losses = {name: [] for name in loss_names}\n",
    "        for subjectidx, subject in enumerate(subjects):\n",
    "            losses = {name: [] for name in loss_names}\n",
    "            for fold in range(NUM_CV_SPLITS):\n",
    "                hp_str = hp.get_hp_string() + f\"fold_{fold}\"\n",
    "                \n",
    "                loss_results_file = os.path.join(results_root_dir, subject, model_name, 'loss_results', hp_str, 'loss_results.p')\n",
    "                if os.path.isfile(loss_results_file):\n",
    "                    loss_results = pickle.load(open(loss_results_file, 'rb'))\n",
    "                    for name in loss_names:\n",
    "                        losses[name].append(loss_results[name])\n",
    "                else:\n",
    "                    for name in loss_names:\n",
    "                        losses[name].append(np.nan)\n",
    "            for name in loss_names:\n",
    "                if name in loss_results.keys():\n",
    "                    subjects_losses[name].append(np.mean(losses[name]))\n",
    "                else:\n",
    "                    subjects_losses[name].append(np.nan)\n",
    "        for col, loss_name in enumerate(loss_names):\n",
    "            subjects_losses_temp = np.array(subjects_losses[loss_name])\n",
    "            subjects_mean = subjects_losses_temp.mean()\n",
    "            subjects_sem  = [0] * len(xticklabels)\n",
    "            subjects_sem[-1] = sem(subjects_losses_temp)\n",
    "            subjects_losses[loss_name].append(subjects_mean)\n",
    "            axes[row,col].bar(xticks+bar_offsets[hpidx], subjects_losses[loss_name], bar_width, yerr=subjects_sem, label=f\"{hp.optimizer}(lr:{hp.lr:0.5f}, wd:{hp.wd:0.2f})[{hp.loss}]{'_full_train' if hp.full_train else ''}\")\n",
    "            # axes[row,col].bar(xticks[-1]+bar_offsets[hpidx], subjects_accuracies[-1], yerr=subjects_sem, width=bar_width)\n",
    "            axes[row,col].set_xticks(xticks)\n",
    "            axes[row,col].set_xticklabels(xticklabels)\n",
    "            axes[row,col].grid(alpha=0.5)\n",
    "            axes[row,col].set_title(f'{loss_name} | {model_name}')\n",
    "            axes[row,col].set_ylabel(f'{loss_name}')\n",
    "            if loss_name == \"train_loss\":\n",
    "                axes[row,col].set_ylim(bottom=0, top=2)\n",
    "            if loss_name == \"val_loss\":\n",
    "                axes[row,col].set_ylim(bottom=0.5, top=2)\n",
    "            if loss_name == \"test_loss\":\n",
    "                axes[row,col].set_ylim(bottom=0.5, top=2)\n",
    "            # axes[row,col].axhline(y=0.5, color='r', linestyle='-')\n",
    "            if row == 0 and col == len(decoding_modes) - 1:\n",
    "                axes[row,col].legend(bbox_to_anchor=(1.1, 1.05))\n",
    "fig.suptitle(\"Losses\", fontsize=16)\n",
    "plt.tight_layout()\n",
    "plt.savefig(\"losses.png\", dpi=300)\n"
   ]
  },
  {
   "cell_type": "code",
   "execution_count": 191,
   "metadata": {},
   "outputs": [
    {
     "name": "stderr",
     "output_type": "stream",
     "text": [
      "/home/mitja/anaconda3/envs/multimodal_decoding/lib/python3.9/site-packages/seaborn/_oldcore.py:1498: FutureWarning: is_categorical_dtype is deprecated and will be removed in a future version. Use isinstance(dtype, CategoricalDtype) instead\n",
      "  if pd.api.types.is_categorical_dtype(vector):\n",
      "/home/mitja/anaconda3/envs/multimodal_decoding/lib/python3.9/site-packages/seaborn/_oldcore.py:1498: FutureWarning: is_categorical_dtype is deprecated and will be removed in a future version. Use isinstance(dtype, CategoricalDtype) instead\n",
      "  if pd.api.types.is_categorical_dtype(vector):\n",
      "/home/mitja/anaconda3/envs/multimodal_decoding/lib/python3.9/site-packages/seaborn/_oldcore.py:1498: FutureWarning: is_categorical_dtype is deprecated and will be removed in a future version. Use isinstance(dtype, CategoricalDtype) instead\n",
      "  if pd.api.types.is_categorical_dtype(vector):\n",
      "/home/mitja/anaconda3/envs/multimodal_decoding/lib/python3.9/site-packages/seaborn/_oldcore.py:1498: FutureWarning: is_categorical_dtype is deprecated and will be removed in a future version. Use isinstance(dtype, CategoricalDtype) instead\n",
      "  if pd.api.types.is_categorical_dtype(vector):\n",
      "/home/mitja/anaconda3/envs/multimodal_decoding/lib/python3.9/site-packages/seaborn/_oldcore.py:1498: FutureWarning: is_categorical_dtype is deprecated and will be removed in a future version. Use isinstance(dtype, CategoricalDtype) instead\n",
      "  if pd.api.types.is_categorical_dtype(vector):\n",
      "/home/mitja/anaconda3/envs/multimodal_decoding/lib/python3.9/site-packages/seaborn/_oldcore.py:1498: FutureWarning: is_categorical_dtype is deprecated and will be removed in a future version. Use isinstance(dtype, CategoricalDtype) instead\n",
      "  if pd.api.types.is_categorical_dtype(vector):\n",
      "/home/mitja/anaconda3/envs/multimodal_decoding/lib/python3.9/site-packages/seaborn/_oldcore.py:1498: FutureWarning: is_categorical_dtype is deprecated and will be removed in a future version. Use isinstance(dtype, CategoricalDtype) instead\n",
      "  if pd.api.types.is_categorical_dtype(vector):\n",
      "/home/mitja/anaconda3/envs/multimodal_decoding/lib/python3.9/site-packages/seaborn/_oldcore.py:1498: FutureWarning: is_categorical_dtype is deprecated and will be removed in a future version. Use isinstance(dtype, CategoricalDtype) instead\n",
      "  if pd.api.types.is_categorical_dtype(vector):\n",
      "/home/mitja/anaconda3/envs/multimodal_decoding/lib/python3.9/site-packages/seaborn/_oldcore.py:1498: FutureWarning: is_categorical_dtype is deprecated and will be removed in a future version. Use isinstance(dtype, CategoricalDtype) instead\n",
      "  if pd.api.types.is_categorical_dtype(vector):\n",
      "/home/mitja/anaconda3/envs/multimodal_decoding/lib/python3.9/site-packages/seaborn/_oldcore.py:1498: FutureWarning: is_categorical_dtype is deprecated and will be removed in a future version. Use isinstance(dtype, CategoricalDtype) instead\n",
      "  if pd.api.types.is_categorical_dtype(vector):\n",
      "/home/mitja/anaconda3/envs/multimodal_decoding/lib/python3.9/site-packages/seaborn/_oldcore.py:1498: FutureWarning: is_categorical_dtype is deprecated and will be removed in a future version. Use isinstance(dtype, CategoricalDtype) instead\n",
      "  if pd.api.types.is_categorical_dtype(vector):\n",
      "/home/mitja/anaconda3/envs/multimodal_decoding/lib/python3.9/site-packages/seaborn/_oldcore.py:1498: FutureWarning: is_categorical_dtype is deprecated and will be removed in a future version. Use isinstance(dtype, CategoricalDtype) instead\n",
      "  if pd.api.types.is_categorical_dtype(vector):\n",
      "/home/mitja/anaconda3/envs/multimodal_decoding/lib/python3.9/site-packages/seaborn/_oldcore.py:1498: FutureWarning: is_categorical_dtype is deprecated and will be removed in a future version. Use isinstance(dtype, CategoricalDtype) instead\n",
      "  if pd.api.types.is_categorical_dtype(vector):\n",
      "/home/mitja/anaconda3/envs/multimodal_decoding/lib/python3.9/site-packages/seaborn/_oldcore.py:1498: FutureWarning: is_categorical_dtype is deprecated and will be removed in a future version. Use isinstance(dtype, CategoricalDtype) instead\n",
      "  if pd.api.types.is_categorical_dtype(vector):\n",
      "/home/mitja/anaconda3/envs/multimodal_decoding/lib/python3.9/site-packages/seaborn/_oldcore.py:1498: FutureWarning: is_categorical_dtype is deprecated and will be removed in a future version. Use isinstance(dtype, CategoricalDtype) instead\n",
      "  if pd.api.types.is_categorical_dtype(vector):\n",
      "/home/mitja/anaconda3/envs/multimodal_decoding/lib/python3.9/site-packages/seaborn/_oldcore.py:1498: FutureWarning: is_categorical_dtype is deprecated and will be removed in a future version. Use isinstance(dtype, CategoricalDtype) instead\n",
      "  if pd.api.types.is_categorical_dtype(vector):\n"
     ]
    },
    {
     "data": {
      "image/png": "[encoded data removed]",
      "text/plain": [
       "<Figure size 1296x288 with 4 Axes>"
      ]
     },
     "metadata": {
      "needs_background": "light"
     },
     "output_type": "display_data"
    }
   ],
   "source": [
    "decoding_modes   = ['modality-agnostic', 'captions', 'images']\n",
    "loss_names = [\"train_loss\", \"val_loss\", \"test_loss\"]\n",
    "fig, axes = plt.subplots(len(model_names), len(loss_names)+1, figsize=(len(loss_names)*6, len(model_names)*4), squeeze=False)\n",
    "xticklabels = subjects[:] + ['average']\n",
    "xticks = np.arange(len(xticklabels))\n",
    "\n",
    "current_hps = [hp for hp in HPs if not hp.full_train]\n",
    "data = []\n",
    "for row, model_name in enumerate(model_names):\n",
    "    # for col, decoding_mode in enumerate(decoding_modes):\n",
    "    # bar_width = 0.8/len(current_hps)\n",
    "    # first_bar_offset = -0.4 + (bar_width/2)\n",
    "    # bar_offsets = [first_bar_offset + (i*bar_width) for i in range(len(current_hps))]\n",
    "    for hpidx, hp in enumerate(current_hps):\n",
    "        # subjects_losses = {name: [] for name in loss_names}\n",
    "        for subjectidx, subject in enumerate(subjects):\n",
    "            # losses = {name: [] for name in loss_names}\n",
    "            for fold in range(NUM_CV_SPLITS):\n",
    "                hp_str_fold = hp.get_hp_string() + f\"fold_{fold}\"\n",
    "                \n",
    "                loss_results_file = os.path.join(results_root_dir, subject, model_name, 'loss_results', hp_str_fold, 'loss_results.p')\n",
    "                base_results = {\n",
    "                        \"subject\": subject,\n",
    "                        \"hp\": hp.get_hp_string(),\n",
    "                        \"fold\": fold,\n",
    "                        \"model\": model_name,\n",
    "                    }\n",
    "                if os.path.isfile(loss_results_file):\n",
    "                    loss_results = pickle.load(open(loss_results_file, 'rb'))\n",
    "                                   \n",
    "                else:\n",
    "                    loss_results = {loss: np.nan for loss in loss_names}\n",
    "                    \n",
    "                for loss_name in loss_names:\n",
    "                    data.append({\n",
    "                        \"subject\": subject,\n",
    "                        \"hp\": hp.get_hp_string(),\n",
    "                        \"fold\": fold,\n",
    "                        \"model\": model_name,\n",
    "                        \"loss_name\": loss_name,\n",
    "                        \"value\": loss_results[loss_name],\n",
    "                    })   \n",
    "\n",
    "    df = pd.DataFrame.from_records(data)\n",
    "\n",
    "    for col, _ in enumerate(loss_names):\n",
    "        sns.barplot(ax=axes[row,col], data=df, x=\"subject\", y=\"value\", hue=\"hp\")\n",
    "        \n",
    "        if row == 0 and col == len(loss_names):\n",
    "                axes[row,col].legend(bbox_to_anchor=(1.1, 1.05))\n",
    "\n",
    "    sns.barplot(ax=axes[row, -1], data=df, x=\"loss_name\", y=\"value\", hue=\"hp\")\n",
    "    data\n",
    "\n",
    "            # for name in loss_names:\n",
    "            #     if name in loss_results.keys():\n",
    "            #         subjects_losses[name].append(np.mean(losses[name]))\n",
    "            #     else:\n",
    "            #         subjects_losses[name].append(np.nan)\n",
    "#         for col, loss_name in enumerate(loss_names):\n",
    "#             subjects_losses_temp = np.array(subjects_losses[loss_name])\n",
    "#             subjects_mean = subjects_losses_temp.mean()\n",
    "#             subjects_sem  = [0] * len(xticklabels)\n",
    "#             subjects_sem[-1] = sem(subjects_losses_temp)\n",
    "#             subjects_losses[loss_name].append(subjects_mean)\n",
    "#             axes[row,col].bar(xticks+bar_offsets[hpidx], subjects_losses[loss_name], bar_width, yerr=subjects_sem, label=f\"{hp.optimizer}(lr:{hp.lr:0.5f}, wd:{hp.wd:0.2f})[{hp.loss}]{'_full_train' if hp.full_train else ''}\")\n",
    "#             # axes[row,col].bar(xticks[-1]+bar_offsets[hpidx], subjects_accuracies[-1], yerr=subjects_sem, width=bar_width)\n",
    "#             axes[row,col].set_xticks(xticks)\n",
    "#             axes[row,col].set_xticklabels(xticklabels)\n",
    "#             axes[row,col].grid(alpha=0.5)\n",
    "#             axes[row,col].set_title(f'{loss_name} | {model_name}')\n",
    "#             axes[row,col].set_ylabel(f'{loss_name}')\n",
    "#             if loss_name == \"train_loss\":\n",
    "#                 axes[row,col].set_ylim(bottom=0, top=2)\n",
    "#             if loss_name == \"val_loss\":\n",
    "#                 axes[row,col].set_ylim(bottom=0.5, top=2)\n",
    "#             if loss_name == \"test_loss\":\n",
    "#                 axes[row,col].set_ylim(bottom=0.5, top=2)\n",
    "#             # axes[row,col].axhline(y=0.5, color='r', linestyle='-')\n",
    "\n",
    "# fig.suptitle(\"Losses\", fontsize=16)\n",
    "# plt.tight_layout()\n",
    "# plt.savefig(\"losses.png\", dpi=300)\n"
   ]
  },
  {
   "cell_type": "markdown",
   "metadata": {},
   "source": [
    "## "
   ]
  },
  {
   "cell_type": "code",
   "execution_count": 31,
   "metadata": {
    "ExecuteTime": {
     "end_time": "2023-12-08T13:57:34.136197757Z",
     "start_time": "2023-12-08T13:57:31.678798003Z"
    }
   },
   "outputs": [],
   "source": [
    "# fig, axes = plt.subplots(len(HPs), len(decoding_modes), figsize=(len(decoding_modes)*6, len(HPs)*4), squeeze=False)\n",
    "# xticklabels = subjects[:] + ['average']\n",
    "# xticks = np.arange(len(xticklabels))\n",
    "\n",
    "# for row, hp in enumerate(HPs):\n",
    "#     # for col, decoding_mode in enumerate(decoding_modes):\n",
    "#         bar_width = 0.8/len(model_names)\n",
    "#         first_bar_offset = -0.4 + (bar_width/2)\n",
    "#         bar_offsets = [first_bar_offset + (i*bar_width) for i in range(len(model_names))]\n",
    "#         for model_idx, model_name in enumerate(model_names):\n",
    "#             subjects_losses = {'modality-agnostic':[], 'captions':[], 'images':[]}\n",
    "#             for subjectidx, subject in enumerate(subjects):\n",
    "#                 if distance_matrices[subject][model_name][hp] is not None:\n",
    "#                     accuracies = pairwise_accuracy(distance_matrices[subject][model_name][hp][distance_metric])\n",
    "#                     # accuracies = pairwise_accuracy_duo(distance_matrices[subject][model_name][hp][best_epoch][distance_metric], distance_matrices[subject][model_name][hp][best_epoch]['classes'])\n",
    "#                     subjects_losses['modality-agnostic'].append(accuracies[0])\n",
    "#                     subjects_accuracies['captions'].append(accuracies[1])\n",
    "#                     subjects_accuracies['images'].append(accuracies[2])\n",
    "#                 else:\n",
    "#                     subjects_accuracies['modality-agnostic'].append(np.nan)\n",
    "#                     subjects_accuracies['captions'].append(np.nan)\n",
    "#                     subjects_accuracies['images'].append(np.nan)\n",
    "#             for col, decoding_mode in enumerate(decoding_modes):\n",
    "#                 subjects_accuracies_temp = np.array(subjects_accuracies[decoding_mode])\n",
    "#                 subjects_mean = subjects_accuracies_temp.mean()\n",
    "#                 subjects_sem  = [0] * len(xticklabels)\n",
    "#                 subjects_sem[-1] = sem(subjects_accuracies_temp)\n",
    "#                 subjects_accuracies[decoding_mode].append(subjects_mean)\n",
    "#                 axes[row,col].bar(xticks+bar_offsets[model_idx], subjects_accuracies[decoding_mode], bar_width, yerr=subjects_sem, label=f'{model_name}')\n",
    "#                 axes[row,col].set_xticks(xticks)\n",
    "#                 axes[row,col].set_xticklabels(xticklabels)\n",
    "#                 axes[row,col].grid(alpha=0.5)\n",
    "#                 axes[row,col].set_title(f\"{decoding_mode} | {hp.optimizer}(lr:{hp.lr:0.2f}, wd:{hp.wd:0.2f})[{hp.loss}]{'_full_train' if hp.full_train else ''}\")\n",
    "#                 axes[row,col].set_ylim(bottom=0.45, top=1.0)\n",
    "#                 axes[row,col].set_ylabel(f'Pairwise Accuracy - {distance_metric} Distance')\n",
    "#                 if row == 0 and col == len(decoding_modes) - 1:\n",
    "#                     axes[row,col].legend(bbox_to_anchor=(1.1, 1.05))\n",
    "# plt.tight_layout()\n",
    "# plt.savefig(f'pairwise_acc_{distance_metric}.jpg', dpi=300)\n",
    "# plt.show()"
   ]
  },
  {
   "cell_type": "markdown",
   "metadata": {},
   "source": [
    "# imagery decoding"
   ]
  },
  {
   "cell_type": "code",
   "execution_count": 11,
   "metadata": {
    "ExecuteTime": {
     "end_time": "2023-12-08T13:57:42.767164960Z",
     "start_time": "2023-12-08T13:57:42.760058033Z"
    }
   },
   "outputs": [],
   "source": [
    "# load subjects best module\n",
    "# load imagery beta files\n",
    "# load all latent vectors\n",
    "# search for the nearest neighbors"
   ]
  },
  {
   "cell_type": "code",
   "execution_count": 68,
   "metadata": {
    "ExecuteTime": {
     "end_time": "2023-12-08T13:58:46.618280281Z",
     "start_time": "2023-12-08T13:58:46.566887765Z"
    }
   },
   "outputs": [],
   "source": [
    "from utils import IMAGERY_SCENES\n",
    "from scipy.spatial.distance import cdist\n",
    "import numpy as np\n",
    "import matplotlib.pyplot as plt\n",
    "plt.style.use('seaborn-v0_8-deep')\n",
    "from glob import glob\n",
    "from glob import escape as gescape\n",
    "from ridge_regression_decoding_mni_mmda import HyperParameters, LinearNet, COCOBOLDDataset\n",
    "import torch\n",
    "import pickle\n",
    "from torch.utils.data import Dataset, DataLoader, Subset\n",
    "from torchvision.transforms import Compose\n",
    "import nibabel as nib\n",
    "\n",
    "def get_nearest_neighbors_indices(vector, dataset_vectors, n_neighbors, metric='cosine'):\n",
    "    r\"\"\"\n",
    "    extracts neighboring vectors of each given vector with respect to the dataset.\n",
    "    metric defines the distance metric for finding neighbors\n",
    "    \"\"\"\n",
    "    # if vector is 2-dim, the neighbors will be returned for each sample\n",
    "    if np.ndim(vector) == 1:\n",
    "        vector = vector[np.newaxis,:]\n",
    "    \n",
    "    dists = cdist(vector, dataset_vectors, metric=metric)\n",
    "    nearests_ids   = np.argsort(dists, axis=1)[:, :n_neighbors]\n",
    "    nearests_dists = np.sort(dists, axis=1)[:, :n_neighbors]\n",
    "\n",
    "    return nearests_ids, nearests_dists\n",
    "\n",
    "def fetch_image(sid, ds_root):\n",
    "    file_name = f\"{sid:012d}.jpg\"\n",
    "    image_add = list(glob(os.path.join(ds_root, '*', file_name)))\n",
    "    return plt.imread(image_add[0])\n",
    "\n",
    "def show_neighboring_images(neighboring_ids, distances, imagery_scene):\n",
    "    rows = int(np.ceil(len(neighboring_ids)/10))\n",
    "    fig, axes = plt.subplots(rows, 10, figsize=(30,rows*3), facecolor='white', squeeze=False)\n",
    "    fig.suptitle(imagery_scene, fontsize=20)\n",
    "    row = 0\n",
    "    col = 0\n",
    "    for c in range(len(neighboring_ids)):\n",
    "        axes[row,col].imshow(fetch_image(neighboring_ids[c], '/home/milad/datasets/coco2017/images'))\n",
    "        axes[row,col].set_axis_off()\n",
    "        axes[row,col].set_title(f\"{distances[c]:.4f}\")\n",
    "        col += 1\n",
    "        if col == 10:\n",
    "            row += 1\n",
    "            col = 0\n",
    "    plt.tight_layout()\n",
    "    # plt.show()\n",
    "    plt.savefig('temp.jpg', dpi=96)\n",
    "    plt.close()\n",
    "\n",
    "def decode_imagery(net, imagery_loader, device):\n",
    "    net.eval()\n",
    "    predictions = []\n",
    "    with torch.no_grad():\n",
    "        for data in imagery_loader:\n",
    "            test_inputs, _,_, test_ids = data\n",
    "            outputs = net(test_inputs.to(device))\n",
    "            predictions.append(outputs.cpu().numpy())\n",
    "        predictions = np.concatenate(predictions, axis=0)\n",
    "    return predictions\n",
    "\n",
    "class Normalize():\n",
    "    def __init__(self, mean, std):\n",
    "        self.mean = mean\n",
    "        self.std = std\n",
    "    def __call__(self, x):\n",
    "        return ((x-self.mean)/self.std).astype(np.float32).squeeze()\n",
    "\n",
    "def to_tensor(v):\n",
    "    return torch.from_numpy(v)\n",
    "\n",
    "def normalize_vectors(latent_vectors, normalizer):\n",
    "    nvects = []\n",
    "    for v in latent_vectors:\n",
    "        nvects.append(normalizer(v).numpy())\n",
    "    return np.array(nvects)\n",
    "\n"
   ]
  },
  {
   "cell_type": "code",
   "execution_count": 69,
   "metadata": {
    "ExecuteTime": {
     "end_time": "2023-12-08T13:58:47.933007102Z",
     "start_time": "2023-12-08T13:58:47.923587068Z"
    }
   },
   "outputs": [],
   "source": [
    "# subjects = ['sub-01', 'sub-02', 'sub-03', 'sub-04', 'sub-05', 'sub-07']\n",
    "# model_names = ['ViT-L14-336px','ViTL16_GPT2XL', 'RESNET152_GPT2XL']\n",
    "# latent_vector_files = {\n",
    "#     \"RESNET152_AVGPOOL_PCA768\" :os.path.join(FEATURES_DIR, \"resnet/resnet152_avgpool_selected_coco_crop_pca_768.pickle\"),\n",
    "#     # \"RESNET152_AVGPOOL\"        :os.path.join(FEATURES_DIR, \"resnet/resnet152_avgpool_selected_coco_crop.pickle\"),\n",
    "#     \"GPT2XL_AVG_PCA768\"        :os.path.join(FEATURES_DIR, \"gpt/gpt2_xl_avg_selected_coco_pca_768.pickle\"),\n",
    "#     \"GPT2XL_AVG\"               :os.path.join(FEATURES_DIR, \"gpt/gpt2_xl_avg_selected_coco.pickle\"),\n",
    "#     \"VITL16_ENCODER_PCA768\"    :os.path.join(FEATURES_DIR, \"vit/vit_l_16_encoder_selected_coco_crop_pca_768.pickle\"),\n",
    "#     \"VITL16_ENCODER\"           :os.path.join(FEATURES_DIR, \"vit/vit_l_16_encoder_selected_coco_crop.pickle\"),\n",
    "#     \"CLIP_L_PCA768\"            :os.path.join(FEATURES_DIR, \"clip/clip_l_VITL14336px_selected_coco_dataset_crop_pca_768.pickle\"),\n",
    "#     \"CLIP_L\"                   :os.path.join(FEATURES_DIR, \"clip/clip_l_VITL14336px_selected_coco_dataset_crop.pickle\"),\n",
    "#     \"CLIP_V_PCA768\"            :os.path.join(FEATURES_DIR, \"clip/clip_v_VITL14336px_selected_coco_dataset_crop_pca_768.pickle\"),\n",
    "#     \"CLIP_V\"                   :os.path.join(FEATURES_DIR, \"clip/clip_v_VITL14336px_selected_coco_dataset_crop.pickle\"),\n",
    "# }\n",
    "\n",
    "# two_stage_glm_dir   = f'/mnt/HD1/milad/multimodal_decoding/glm_manual/two-stage-mni/'\n",
    "# bold_std_mean_name  = f'bold_mean_std'\n",
    "# netowrks_base_dir   = f'/mnt/HD1/milad/multimodal_decoding/regression_results_mni'\n"
   ]
  },
  {
   "cell_type": "code",
   "execution_count": 14,
   "metadata": {
    "ExecuteTime": {
     "end_time": "2023-12-08T13:58:49.003323676Z",
     "start_time": "2023-12-08T13:58:48.983868226Z"
    }
   },
   "outputs": [],
   "source": [
    "HPs = [\n",
    "    HyperParameters(optimizer='SGD', lr=0.010, wd=0.00, dropout=False, loss='MSE'),\n",
    "    # HyperParameters(optimizer='SGD', lr=0.050, wd=0.00, dropout=False, loss='MSE'),\n",
    "    # HyperParameters(optimizer='SGD', lr=0.010, wd=0.01, dropout=False, loss='MSE'),\n",
    "    # HyperParameters(optimizer='SGD', lr=0.050, wd=0.01, dropout=False, loss='MSE'),\n",
    "]"
   ]
  },
  {
   "cell_type": "markdown",
   "metadata": {},
   "source": [
    "### decoding images from imagery"
   ]
  },
  {
   "cell_type": "code",
   "execution_count": 15,
   "metadata": {
    "ExecuteTime": {
     "end_time": "2023-12-08T13:58:51.115948916Z",
     "start_time": "2023-12-08T13:58:51.108255108Z"
    }
   },
   "outputs": [],
   "source": [
    "def decode_imagery_vision_to_vision_decoder(subject, model_name, hp, netowrks_base_dir):\n",
    "    model_std_mean_name = f'{model_name}_mean_std'\n",
    "    std_mean_dir        = f'/mnt/HD1/milad/multimodal_decoding/glm_manual/two-stage-mni/{subject}'\n",
    "\n",
    "    # preparing the data transforms\n",
    "    with open(latent_vector_files[model_name], 'rb') as handle:\n",
    "        latent_vectors = pickle.load(handle)\n",
    "\n",
    "    stim_ids = list(sorted(latent_vectors.keys()))\n",
    "    vision_vectors   = [latent_vectors[sid]['visual_feature'] for sid in stim_ids]\n",
    "    # language_vectors = [latent_vectors[sid]['lingual_feature'] for sid in stim_ids]\n",
    "\n",
    "    # bold images\n",
    "    with open(os.path.join(std_mean_dir, f'{bold_std_mean_name}_train_images.pickle'), 'rb') as handle:\n",
    "        bold_mean_std = pickle.load(handle)\n",
    "    bold_images_transform = Compose([\n",
    "        Normalize(bold_mean_std['mean'], bold_mean_std['std']),\n",
    "        to_tensor\n",
    "    ])\n",
    "\n",
    "    # # bold captions\n",
    "    # with open(os.path.join(std_mean_dir, f'{bold_std_mean_name}_train_captions.pickle'), 'rb') as handle:\n",
    "    #     bold_mean_std = pickle.load(handle)\n",
    "    # bold_captions_transform = Compose([\n",
    "    #     Normalize(bold_mean_std['mean'], bold_mean_std['std']),\n",
    "    #     to_tensor\n",
    "    # ])\n",
    "\n",
    "    # latent images\n",
    "    with open(os.path.join(std_mean_dir, f'{model_std_mean_name}_train_images.pickle'), 'rb') as handle:\n",
    "        model_mean_std = pickle.load(handle)\n",
    "    latent_images_transform = Compose([\n",
    "        Normalize(model_mean_std['mean'], model_mean_std['std']),\n",
    "        to_tensor\n",
    "    ])\n",
    "\n",
    "    # # latent captions\n",
    "    # with open(os.path.join(std_mean_dir, f'{model_std_mean_name}_train_captions.pickle'), 'rb') as handle:\n",
    "    #     model_mean_std = pickle.load(handle)\n",
    "    # latent_captions_transform = Compose([\n",
    "    #     Normalize(model_mean_std['mean'], model_mean_std['std']),\n",
    "    #     to_tensor\n",
    "    # ])\n",
    "\n",
    "\n",
    "    imagery_to_vision_dataset = COCOBOLDDataset(two_stage_glm_dir, subject, latent_vectors, f'imagery', transform=bold_images_transform)\n",
    "    imagery_to_vision_dataset.preload()\n",
    "    imagery_to_vision_loader  = DataLoader(imagery_to_vision_dataset,  batch_size=len(imagery_to_vision_dataset), num_workers=0, shuffle=False)\n",
    "\n",
    "    # imagery_to_captions_dataset = COCOBOLDDataset(two_stage_glm_dir, subjects[0], latent_vectors, f'imagery', transform=bold_captions_transform)\n",
    "    # imagery_to_captions_dataset.preload()\n",
    "    # imagery_to_captions_loader  = DataLoader(imagery_to_captions_dataset,  batch_size=len(imagery_to_captions_dataset), num_workers=0, shuffle=False)\n",
    "\n",
    "\n",
    "    checkpoint = list(glob(os.path.join(gescape(os.path.join(netowrks_base_dir, subject, model_name, 'networks', hp.get_hp_string())), f'net_best_vision_vision*')))[0]\n",
    "    net_vision = LinearNet(imagery_to_vision_loader.dataset.bold_dim_size, imagery_to_vision_loader.dataset.latent_dim_size)\n",
    "    net_vision.load_state_dict(torch.load(checkpoint, map_location='cpu'))\n",
    "\n",
    "    predictions = decode_imagery(net_vision, imagery_to_vision_loader, 'cpu')\n",
    "\n",
    "    normalized_vision_vectors = normalize_vectors(vision_vectors, latent_images_transform)\n",
    "\n",
    "    neighbors, distances = get_nearest_neighbors_indices(predictions-predictions.mean(axis=0), normalized_vision_vectors, 20)\n",
    "    # neighbors, distances = get_nearest_neighbors_indices(predictions, normalized_vision_vectors, 20)\n",
    "\n",
    "    for i in range(3):\n",
    "        show_neighboring_images([stim_ids[a] for a in neighbors[i]], distances[i], IMAGERY_SCENES[subject][i][0])\n"
   ]
  },
  {
   "cell_type": "code",
   "execution_count": 16,
   "metadata": {
    "ExecuteTime": {
     "end_time": "2023-12-08T13:58:52.811222405Z",
     "start_time": "2023-12-08T13:58:52.744673651Z"
    }
   },
   "outputs": [
    {
     "ename": "KeyError",
     "evalue": "'ViT-L14-336px'",
     "output_type": "error",
     "traceback": [
      "\u001b[0;31m---------------------------------------------------------------------------\u001b[0m",
      "\u001b[0;31mKeyError\u001b[0m                                  Traceback (most recent call last)",
      "Cell \u001b[0;32mIn[16], line 1\u001b[0m\n\u001b[0;32m----> 1\u001b[0m \u001b[43mdecode_imagery_vision_to_vision_decoder\u001b[49m\u001b[43m(\u001b[49m\u001b[43msubjects\u001b[49m\u001b[43m[\u001b[49m\u001b[38;5;241;43m0\u001b[39;49m\u001b[43m]\u001b[49m\u001b[43m,\u001b[49m\u001b[43m \u001b[49m\u001b[43mmodel_names\u001b[49m\u001b[43m[\u001b[49m\u001b[38;5;241;43m0\u001b[39;49m\u001b[43m]\u001b[49m\u001b[43m,\u001b[49m\u001b[43m \u001b[49m\u001b[43mHPs\u001b[49m\u001b[43m[\u001b[49m\u001b[38;5;241;43m0\u001b[39;49m\u001b[43m]\u001b[49m\u001b[43m,\u001b[49m\u001b[43m \u001b[49m\u001b[43mnetowrks_base_dir\u001b[49m\u001b[43m)\u001b[49m\n",
      "Cell \u001b[0;32mIn[15], line 6\u001b[0m, in \u001b[0;36mdecode_imagery_vision_to_vision_decoder\u001b[0;34m(subject, model_name, hp, netowrks_base_dir)\u001b[0m\n\u001b[1;32m      3\u001b[0m std_mean_dir        \u001b[38;5;241m=\u001b[39m \u001b[38;5;124mf\u001b[39m\u001b[38;5;124m'\u001b[39m\u001b[38;5;124m/mnt/HD1/milad/multimodal_decoding/glm_manual/two-stage-mni/\u001b[39m\u001b[38;5;132;01m{\u001b[39;00msubject\u001b[38;5;132;01m}\u001b[39;00m\u001b[38;5;124m'\u001b[39m\n\u001b[1;32m      5\u001b[0m \u001b[38;5;66;03m# preparing the data transforms\u001b[39;00m\n\u001b[0;32m----> 6\u001b[0m \u001b[38;5;28;01mwith\u001b[39;00m \u001b[38;5;28mopen\u001b[39m(\u001b[43mlatent_vector_files\u001b[49m\u001b[43m[\u001b[49m\u001b[43mmodel_name\u001b[49m\u001b[43m]\u001b[49m, \u001b[38;5;124m'\u001b[39m\u001b[38;5;124mrb\u001b[39m\u001b[38;5;124m'\u001b[39m) \u001b[38;5;28;01mas\u001b[39;00m handle:\n\u001b[1;32m      7\u001b[0m     latent_vectors \u001b[38;5;241m=\u001b[39m pickle\u001b[38;5;241m.\u001b[39mload(handle)\n\u001b[1;32m      9\u001b[0m stim_ids \u001b[38;5;241m=\u001b[39m \u001b[38;5;28mlist\u001b[39m(\u001b[38;5;28msorted\u001b[39m(latent_vectors\u001b[38;5;241m.\u001b[39mkeys()))\n",
      "\u001b[0;31mKeyError\u001b[0m: 'ViT-L14-336px'"
     ]
    }
   ],
   "source": [
    "decode_imagery_vision_to_vision_decoder(subjects[0], model_names[0], HPs[0], netowrks_base_dir)"
   ]
  },
  {
   "cell_type": "code",
   "execution_count": null,
   "metadata": {
    "ExecuteTime": {
     "end_time": "2023-12-08T13:58:54.368124849Z",
     "start_time": "2023-12-08T13:58:54.330891027Z"
    }
   },
   "outputs": [],
   "source": [
    "decode_imagery_vision_to_vision_decoder(subjects[1], model_names[0], HPs[0], netowrks_base_dir)"
   ]
  },
  {
   "cell_type": "code",
   "execution_count": null,
   "metadata": {
    "ExecuteTime": {
     "end_time": "2023-12-08T13:58:54.964512464Z",
     "start_time": "2023-12-08T13:58:54.945731008Z"
    }
   },
   "outputs": [],
   "source": [
    "decode_imagery_vision_to_vision_decoder(subjects[3], model_names[0], HPs[0], netowrks_base_dir)"
   ]
  },
  {
   "cell_type": "code",
   "execution_count": null,
   "metadata": {
    "ExecuteTime": {
     "end_time": "2023-12-08T13:58:55.476736715Z",
     "start_time": "2023-12-08T13:58:55.444019157Z"
    }
   },
   "outputs": [],
   "source": [
    "decode_imagery_vision_to_vision_decoder(subjects[4], model_names[0], HPs[0], netowrks_base_dir)"
   ]
  },
  {
   "cell_type": "code",
   "execution_count": null,
   "metadata": {
    "ExecuteTime": {
     "end_time": "2023-12-08T13:58:55.974826665Z",
     "start_time": "2023-12-08T13:58:55.952170647Z"
    }
   },
   "outputs": [],
   "source": [
    "decode_imagery_vision_to_vision_decoder(subjects[5], model_names[0], HPs[0], netowrks_base_dir)"
   ]
  },
  {
   "cell_type": "code",
   "execution_count": null,
   "metadata": {},
   "outputs": [],
   "source": []
  },
  {
   "cell_type": "code",
   "execution_count": null,
   "metadata": {},
   "outputs": [],
   "source": []
  }
 ],
 "metadata": {
  "kernelspec": {
   "display_name": "Python 3",
   "language": "python",
   "name": "python3"
  },
  "language_info": {
   "codemirror_mode": {
    "name": "ipython",
    "version": 3
   },
   "file_extension": ".py",
   "mimetype": "text/x-python",
   "name": "python",
   "nbconvert_exporter": "python",
   "pygments_lexer": "ipython3",
   "version": "3.9.18"
  },
  "vscode": {
   "interpreter": {
    "hash": "64c2261fd1335a391d209058834a77a3cc43bbc1dadc63860e2129a303b1f182"
   }
  }
 },
 "nbformat": 4,
 "nbformat_minor": 4
}
